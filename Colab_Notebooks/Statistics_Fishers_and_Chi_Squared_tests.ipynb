{
  "nbformat": 4,
  "nbformat_minor": 0,
  "metadata": {
    "colab": {
      "provenance": []
    },
    "kernelspec": {
      "name": "python3",
      "display_name": "Python 3"
    },
    "language_info": {
      "name": "python"
    }
  },
  "cells": [
    {
      "cell_type": "code",
      "execution_count": null,
      "metadata": {
        "colab": {
          "base_uri": "https://localhost:8080/"
        },
        "id": "7qofH0J6ioeG",
        "outputId": "fe227d2a-508a-4d62-ac4b-93c76fee0cf6"
      },
      "outputs": [
        {
          "output_type": "stream",
          "name": "stdout",
          "text": [
            "Contingency Table:\n",
            "Placebo      No  Yes\n",
            "Ears_bigger         \n",
            "No           14   25\n",
            "Yes          20   30\n",
            "\n",
            "Results of Fisher's Exact Test:\n",
            "Odds Ratio: 0.84\n",
            "P-Value: 0.8264237455624253\n"
          ]
        }
      ],
      "source": [
        "# Data Science for Medicine and Biology\n",
        "#\n",
        "# Nezu Life Sciences\n",
        "#\n",
        "# Feel free to modify, redistribute and above all,\n",
        "# create something with this code.\n",
        "#\n",
        "# Tiago Lopes, PhD\n",
        "# March 2024\n",
        "\n",
        "import pandas as pd\n",
        "from scipy.stats import fisher_exact\n",
        "\n",
        "# Load the dataset\n",
        "fileName = \"https://raw.githubusercontent.com/Nezu-life/Data_Science_For_Medicine_and_Biology/main/datasets/side_effect_ears_bigger.csv\"\n",
        "data = pd.read_csv(fileName)\n",
        "\n",
        "# Assuming the data has two categorical columns\n",
        "# The contingency table is formed by cross-tabulating these columns\n",
        "contingency_table = pd.crosstab(data.iloc[:, 0], data.iloc[:, 1])\n",
        "\n",
        "# Printing the contingency table\n",
        "print(\"Contingency Table:\")\n",
        "print(contingency_table)\n",
        "\n",
        "# Performing Fisher's Exact Test\n",
        "odds_ratio, p_value = fisher_exact(contingency_table)\n",
        "\n",
        "# Printing the results\n",
        "print(\"\\nResults of Fisher's Exact Test:\")\n",
        "print(f\"Odds Ratio: {odds_ratio}\")\n",
        "print(f\"P-Value: {p_value}\")\n",
        "\n",
        "\n"
      ]
    },
    {
      "cell_type": "code",
      "source": [
        "from scipy.stats import chi2_contingency\n",
        "\n",
        "# Load the dataset\n",
        "fileName = \"https://raw.githubusercontent.com/Nezu-life/Data_Science_For_Medicine_and_Biology/main/datasets/lab_animal_diet_preference.csv\"\n",
        "data = pd.read_csv(fileName, index_col=0)\n",
        "print(data)\n",
        "\n",
        "chi2, p, dof, expected = chi2_contingency(data)\n",
        "\n",
        "# Print the results\n",
        "print(\"\\nResults of the Chi-Squared Test:\")\n",
        "print(f\"Chi-Squared Statistic: {chi2:.2f}\")\n",
        "print(f\"P-value: {p:.4f}\")\n"
      ],
      "metadata": {
        "colab": {
          "base_uri": "https://localhost:8080/"
        },
        "id": "T1YTBOCli7j_",
        "outputId": "930d09ae-7867-48a2-8e6c-5696bd15b04e"
      },
      "execution_count": null,
      "outputs": [
        {
          "output_type": "stream",
          "name": "stdout",
          "text": [
            "             Almonds  Carrots  Cheddar  Apple\n",
            "Mice              30       10       60     10\n",
            "Rats              50       20       10     10\n",
            "Guinea Pigs       10       10       10     60\n",
            "Rabbits           10       60       10     10\n",
            "\n",
            "Results of the Chi-Squared Test:\n",
            "Chi-Squared Statistic: 276.02\n",
            "P-value: 0.0000\n"
          ]
        }
      ]
    }
  ]
}