{
  "nbformat": 4,
  "nbformat_minor": 0,
  "metadata": {
    "colab": {
      "provenance": []
    },
    "kernelspec": {
      "name": "python3",
      "display_name": "Python 3"
    },
    "language_info": {
      "name": "python"
    }
  },
  "cells": [
    {
      "cell_type": "code",
      "source": [
        "# Data Science for Medicine and Biology\n",
        "#\n",
        "# Nezu Life Sciences\n",
        "#\n",
        "# Feel free to modify, redistribute and above all,\n",
        "# create something with this code.\n",
        "#\n",
        "# Tiago Lopes, PhD\n",
        "# March 2024\n",
        "\n",
        "# Import a large dataset from the Nezu Life Sciences repository\n",
        "# Print its \"shape\" (number of rows and columns)\n",
        "# and its first 5 rows.\n",
        "\n",
        "import pandas as pd\n",
        "\n",
        "URL = \"https://raw.githubusercontent.com/Nezu-life/Machine_Learning_Course_English/main/Intro_to_Python/datasets/synthetic_patient_records.csv\"\n",
        "\n",
        "patients = pd.read_csv(URL, sep=\",\")\n",
        "\n"
      ],
      "metadata": {
        "id": "tBxFqUvMQJo2"
      },
      "execution_count": null,
      "outputs": []
    },
    {
      "cell_type": "code",
      "source": [
        "# Renames one of the columns of the data frame\n",
        "\n",
        "patients = patients.rename(columns={\"Patient ID\": \"Patient_ID\"})\n",
        "\n",
        "print(patients.head(5))\n"
      ],
      "metadata": {
        "colab": {
          "base_uri": "https://localhost:8080/"
        },
        "id": "NGH7yfk3wAQD",
        "outputId": "c0e11b90-0f9a-4a7c-cd57-e6daccd23ae9"
      },
      "execution_count": null,
      "outputs": [
        {
          "output_type": "stream",
          "name": "stdout",
          "text": [
            "  Patient_ID   Age  Gender  Height  Weight Blood_Type  Cholesterol  \\\n",
            "0   PID-0001  69.0    Male   177.1   146.6         A-        220.2   \n",
            "1   PID-0002   NaN    Male   192.1   105.8         B+          NaN   \n",
            "2   PID-0003  89.0   Other   174.2    84.7         O+        136.3   \n",
            "3   PID-0004  78.0  Female   141.8   108.0        AB-        147.8   \n",
            "4   PID-0005  38.0    Male   195.9    63.9         A-        224.2   \n",
            "\n",
            "   Blood_Pressure_h  Blood_Pressure_l  Diabetes  Smoker  \n",
            "0             138.0              84.0     False   False  \n",
            "1              99.0              81.0     False   False  \n",
            "2             105.0              75.0      True    True  \n",
            "3              97.0              88.0      True   False  \n",
            "4             128.0              87.0     False   False  \n"
          ]
        }
      ]
    },
    {
      "cell_type": "code",
      "source": [
        "# Adds a new column (BMI) to the data frame\n",
        "\n",
        "patients[\"Height\"] = patients[\"Height\"] / 100\n",
        "\n",
        "patients[\"BMI\"] = patients[\"Weight\"] / patients[\"Height\"] ** 2\n",
        "\n",
        "print(patients.head(5))\n"
      ],
      "metadata": {
        "colab": {
          "base_uri": "https://localhost:8080/"
        },
        "id": "K47-ZvM-xDNB",
        "outputId": "c0d43482-5a10-4d94-babd-1522bf952630"
      },
      "execution_count": null,
      "outputs": [
        {
          "output_type": "stream",
          "name": "stdout",
          "text": [
            "  Patient_ID   Age  Gender  Height  Weight Blood_Type  Cholesterol  \\\n",
            "0   PID-0001  69.0    Male   1.771   146.6         A-        220.2   \n",
            "1   PID-0002   NaN    Male   1.921   105.8         B+          NaN   \n",
            "2   PID-0003  89.0   Other   1.742    84.7         O+        136.3   \n",
            "3   PID-0004  78.0  Female   1.418   108.0        AB-        147.8   \n",
            "4   PID-0005  38.0    Male   1.959    63.9         A-        224.2   \n",
            "\n",
            "   Blood_Pressure_h  Blood_Pressure_l  Diabetes  Smoker        BMI  \n",
            "0             138.0              84.0     False   False  46.740876  \n",
            "1              99.0              81.0     False   False  28.670214  \n",
            "2             105.0              75.0      True    True  27.911753  \n",
            "3              97.0              88.0      True   False  53.711996  \n",
            "4             128.0              87.0     False   False  16.650680  \n"
          ]
        }
      ]
    },
    {
      "cell_type": "code",
      "source": [
        "# Removes a column from the data frame\n",
        "\n",
        "patients = patients.drop(\"Height\", axis=1)\n",
        "\n",
        "print(patients.head(5))\n"
      ],
      "metadata": {
        "colab": {
          "base_uri": "https://localhost:8080/"
        },
        "id": "I3a3XpDhylCA",
        "outputId": "eb84b897-0b9d-424c-fb97-ac0e80685dac"
      },
      "execution_count": null,
      "outputs": [
        {
          "output_type": "stream",
          "name": "stdout",
          "text": [
            "  Patient_ID   Age  Gender  Weight Blood_Type  Cholesterol  Blood_Pressure_h  \\\n",
            "0   PID-0001  69.0    Male   146.6         A-        220.2             138.0   \n",
            "1   PID-0002   NaN    Male   105.8         B+          NaN              99.0   \n",
            "2   PID-0003  89.0   Other    84.7         O+        136.3             105.0   \n",
            "3   PID-0004  78.0  Female   108.0        AB-        147.8              97.0   \n",
            "4   PID-0005  38.0    Male    63.9         A-        224.2             128.0   \n",
            "\n",
            "   Blood_Pressure_l  Diabetes  Smoker        BMI  \n",
            "0              84.0     False   False  46.740876  \n",
            "1              81.0     False   False  28.670214  \n",
            "2              75.0      True    True  27.911753  \n",
            "3              88.0      True   False  53.711996  \n",
            "4              87.0     False   False  16.650680  \n"
          ]
        }
      ]
    },
    {
      "cell_type": "code",
      "source": [
        "# Remove all smokers from the data frame and reset indexes\n",
        "\n",
        "patients = patients[patients['Smoker'] != True]\n",
        "\n",
        "patients = patients.reset_index(drop=True)\n",
        "\n",
        "print(patients)\n"
      ],
      "metadata": {
        "colab": {
          "base_uri": "https://localhost:8080/"
        },
        "id": "PRPlmeOCzoJX",
        "outputId": "f4073f3f-98fd-497b-eaa7-33d42ede4e8c"
      },
      "execution_count": null,
      "outputs": [
        {
          "output_type": "stream",
          "name": "stdout",
          "text": [
            "    Patient_ID   Age  Gender  Weight Blood_Type  Cholesterol  \\\n",
            "0     PID-0001  69.0    Male   146.6         A-        220.2   \n",
            "1     PID-0002   NaN    Male   105.8         B+          NaN   \n",
            "2     PID-0004  78.0  Female   108.0        AB-        147.8   \n",
            "3     PID-0005  38.0    Male    63.9         A-        224.2   \n",
            "4     PID-0006  92.0   Other    94.4         O-        231.2   \n",
            "..         ...   ...     ...     ...        ...          ...   \n",
            "501   PID-0994  63.0   Other   148.1         O-        215.3   \n",
            "502   PID-0995  29.0  Female   115.0         A-        232.9   \n",
            "503   PID-0997  79.0  Female   121.5         B+        209.0   \n",
            "504   PID-0998  99.0  Female     NaN         B+        216.6   \n",
            "505   PID-0999  77.0  Female    55.3         B+        221.4   \n",
            "\n",
            "     Blood_Pressure_h  Blood_Pressure_l  Diabetes  Smoker        BMI  \n",
            "0               138.0              84.0     False   False  46.740876  \n",
            "1                99.0              81.0     False   False  28.670214  \n",
            "2                97.0              88.0      True   False  53.711996  \n",
            "3               128.0              87.0     False   False  16.650680  \n",
            "4                 NaN               NaN      True   False  28.687812  \n",
            "..                ...               ...       ...     ...        ...  \n",
            "501             109.0              81.0      True   False  53.487022  \n",
            "502             131.0              81.0     False   False  46.008079  \n",
            "503             117.0              62.0     False   False  52.796498  \n",
            "504             132.0              70.0     False   False        NaN  \n",
            "505             120.0              76.0     False   False  21.467183  \n",
            "\n",
            "[506 rows x 11 columns]\n"
          ]
        }
      ]
    },
    {
      "cell_type": "code",
      "source": [
        "# Lists the number of NaNs (not a numbers) in the data frame\n",
        "\n",
        "print(patients.isna().sum())\n"
      ],
      "metadata": {
        "colab": {
          "base_uri": "https://localhost:8080/"
        },
        "id": "06x3kip-0rMp",
        "outputId": "abb62c12-8e73-4608-84dc-58e82ccf79e4"
      },
      "execution_count": null,
      "outputs": [
        {
          "output_type": "stream",
          "name": "stdout",
          "text": [
            "Patient_ID          18\n",
            "Age                 12\n",
            "Gender              15\n",
            "Weight               7\n",
            "Blood_Type           9\n",
            "Cholesterol         10\n",
            "Blood_Pressure_h    13\n",
            "Blood_Pressure_l    13\n",
            "Diabetes             0\n",
            "Smoker               0\n",
            "BMI                 23\n",
            "dtype: int64\n"
          ]
        }
      ]
    },
    {
      "cell_type": "code",
      "source": [
        "# Removes all rows that have NaNs in the Patient_ID column\n",
        "\n",
        "patients = patients.dropna(subset=['Patient_ID'])\n",
        "\n",
        "patients = patients.reset_index(drop=True)\n",
        "\n",
        "print(patients)\n"
      ],
      "metadata": {
        "colab": {
          "base_uri": "https://localhost:8080/"
        },
        "id": "KLGrs7Ze1iBN",
        "outputId": "c514d042-504d-4941-8801-579d3371b58c"
      },
      "execution_count": null,
      "outputs": [
        {
          "output_type": "stream",
          "name": "stdout",
          "text": [
            "    Patient_ID   Age  Gender  Weight Blood_Type  Cholesterol  \\\n",
            "0     PID-0001  69.0    Male   146.6         A-        220.2   \n",
            "1     PID-0002   NaN    Male   105.8         B+          NaN   \n",
            "2     PID-0004  78.0  Female   108.0        AB-        147.8   \n",
            "3     PID-0005  38.0    Male    63.9         A-        224.2   \n",
            "4     PID-0006  92.0   Other    94.4         O-        231.2   \n",
            "..         ...   ...     ...     ...        ...          ...   \n",
            "483   PID-0994  63.0   Other   148.1         O-        215.3   \n",
            "484   PID-0995  29.0  Female   115.0         A-        232.9   \n",
            "485   PID-0997  79.0  Female   121.5         B+        209.0   \n",
            "486   PID-0998  99.0  Female     NaN         B+        216.6   \n",
            "487   PID-0999  77.0  Female    55.3         B+        221.4   \n",
            "\n",
            "     Blood_Pressure_h  Blood_Pressure_l  Diabetes  Smoker        BMI  \n",
            "0               138.0              84.0     False   False  46.740876  \n",
            "1                99.0              81.0     False   False  28.670214  \n",
            "2                97.0              88.0      True   False  53.711996  \n",
            "3               128.0              87.0     False   False  16.650680  \n",
            "4                 NaN               NaN      True   False  28.687812  \n",
            "..                ...               ...       ...     ...        ...  \n",
            "483             109.0              81.0      True   False  53.487022  \n",
            "484             131.0              81.0     False   False  46.008079  \n",
            "485             117.0              62.0     False   False  52.796498  \n",
            "486             132.0              70.0     False   False        NaN  \n",
            "487             120.0              76.0     False   False  21.467183  \n",
            "\n",
            "[488 rows x 11 columns]\n"
          ]
        }
      ]
    },
    {
      "cell_type": "code",
      "source": [
        "# Reads and concatenates two data frames\n",
        "URL_1 = \"https://raw.githubusercontent.com/Nezu-life/Machine_Learning_Course_English/main/Intro_to_Python/datasets/synthetic_patient_records.csv\"\n",
        "URL_2 = \"https://raw.githubusercontent.com/Nezu-life/Machine_Learning_Course_English/main/Intro_to_Python/datasets/synthetic_patient_records_b.csv\"\n",
        "\n",
        "patients_1 = pd.read_csv(URL_1, sep=\",\")\n",
        "patients_2 = pd.read_csv(URL_2, sep=\",\")\n",
        "\n",
        "patients_final = pd.concat([patients_1, patients_2])\n",
        "\n",
        "patients_final = patients_final.reset_index(drop=True)\n",
        "\n",
        "print(patients_final.shape)\n",
        "\n",
        "print(patients_final.head(5))"
      ],
      "metadata": {
        "colab": {
          "base_uri": "https://localhost:8080/"
        },
        "id": "ePo9dnZ04Akq",
        "outputId": "46efa50d-c81f-4467-ceb3-e70b8b5dba50"
      },
      "execution_count": null,
      "outputs": [
        {
          "output_type": "stream",
          "name": "stdout",
          "text": [
            "(2000, 12)\n",
            "  Patient ID   Age  Gender  Height  Weight Blood_Type  Cholesterol  \\\n",
            "0   PID-0001  69.0    Male   177.1   146.6         A-        220.2   \n",
            "1   PID-0002   NaN    Male   192.1   105.8         B+          NaN   \n",
            "2   PID-0003  89.0   Other   174.2    84.7         O+        136.3   \n",
            "3   PID-0004  78.0  Female   141.8   108.0        AB-        147.8   \n",
            "4   PID-0005  38.0    Male   195.9    63.9         A-        224.2   \n",
            "\n",
            "   Blood_Pressure_h  Blood_Pressure_l  Diabetes  Smoker Blood_Pressure  \n",
            "0             138.0              84.0     False   False            NaN  \n",
            "1              99.0              81.0     False   False            NaN  \n",
            "2             105.0              75.0      True    True            NaN  \n",
            "3              97.0              88.0      True   False            NaN  \n",
            "4             128.0              87.0     False   False            NaN  \n"
          ]
        }
      ]
    },
    {
      "cell_type": "code",
      "source": [
        "# Question of lesson\n",
        "patients = patients.drop(\"Weight\", axis=1)\n",
        "\n",
        "print(patients.head(5))\n"
      ],
      "metadata": {
        "colab": {
          "base_uri": "https://localhost:8080/"
        },
        "id": "sKUBloDm6yaC",
        "outputId": "6046b508-0090-4f6d-dad2-d3bc51b82dc0"
      },
      "execution_count": null,
      "outputs": [
        {
          "output_type": "stream",
          "name": "stdout",
          "text": [
            "  Patient_ID   Age  Gender Blood_Type  Cholesterol  Blood_Pressure_h  \\\n",
            "0   PID-0001  69.0    Male         A-        220.2             138.0   \n",
            "1   PID-0002   NaN    Male         B+          NaN              99.0   \n",
            "2   PID-0004  78.0  Female        AB-        147.8              97.0   \n",
            "3   PID-0005  38.0    Male         A-        224.2             128.0   \n",
            "4   PID-0006  92.0   Other         O-        231.2               NaN   \n",
            "\n",
            "   Blood_Pressure_l  Diabetes  Smoker        BMI  \n",
            "0              84.0     False   False  46.740876  \n",
            "1              81.0     False   False  28.670214  \n",
            "2              88.0      True   False  53.711996  \n",
            "3              87.0     False   False  16.650680  \n",
            "4               NaN      True   False  28.687812  \n"
          ]
        }
      ]
    }
  ]
}