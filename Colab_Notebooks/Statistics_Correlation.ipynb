{
  "nbformat": 4,
  "nbformat_minor": 0,
  "metadata": {
    "colab": {
      "provenance": []
    },
    "kernelspec": {
      "name": "python3",
      "display_name": "Python 3"
    },
    "language_info": {
      "name": "python"
    }
  },
  "cells": [
    {
      "cell_type": "code",
      "execution_count": null,
      "metadata": {
        "colab": {
          "base_uri": "https://localhost:8080/"
        },
        "id": "T9XFnLKJjKOj",
        "outputId": "b5ed5ffe-261e-4857-91e8-41f1dd3b9f49"
      },
      "outputs": [
        {
          "output_type": "stream",
          "name": "stdout",
          "text": [
            "Highest correlation to Brazil is Lithuania: 0.97.\n",
            "Lowest correlation to Brazil is United States: -0.97.\n"
          ]
        }
      ],
      "source": [
        "# Data Science for Medicine and Biology\n",
        "#\n",
        "# Nezu Life Sciences\n",
        "#\n",
        "# Feel free to modify, redistribute and above all,\n",
        "# create something with this code.\n",
        "#\n",
        "# Tiago Lopes, PhD\n",
        "# March 2024\n",
        "\n",
        "import pandas as pd\n",
        "\n",
        "# Read the CSV file into a DataFrame, ignoring the first column\n",
        "fileName = \"https://raw.githubusercontent.com/Nezu-life/Data_Science_For_Medicine_and_Biology/main/datasets/cancer_cases_worldwide.csv\"\n",
        "data = pd.read_csv(fileName, index_col=0)\n",
        "\n",
        "# Calculate the correlation matrix of the rows\n",
        "correlation_matrix = data.T.corr(method=\"spearman\")\n",
        "\n",
        "# Find the row for Brazil\n",
        "brazil_correlations = correlation_matrix.loc['Brazil']\n",
        "\n",
        "# Exclude self-correlation for Brazil\n",
        "brazil_correlations = brazil_correlations.drop('Brazil', axis=0)\n",
        "\n",
        "# Find the country with the highest correlation to Brazil\n",
        "max_cor_country = brazil_correlations.idxmax()\n",
        "max_cor = brazil_correlations.max()\n",
        "\n",
        "# Find the country with the lowest correlation to Brazil\n",
        "min_cor_country = brazil_correlations.idxmin()\n",
        "min_cor = brazil_correlations.min()\n",
        "\n",
        "# Print the results\n",
        "print(f\"Highest correlation to Brazil is {max_cor_country}: {max_cor:.2f}.\")\n",
        "print(f\"Lowest correlation to Brazil is {min_cor_country}: {min_cor:.2f}.\")"
      ]
    }
  ]
}