{
  "nbformat": 4,
  "nbformat_minor": 0,
  "metadata": {
    "colab": {
      "provenance": [],
      "authorship_tag": "ABX9TyO2gtiTDGSaDVfov3RjyOov",
      "include_colab_link": true
    },
    "kernelspec": {
      "name": "python3",
      "display_name": "Python 3"
    },
    "language_info": {
      "name": "python"
    }
  },
  "cells": [
    {
      "cell_type": "markdown",
      "metadata": {
        "id": "view-in-github",
        "colab_type": "text"
      },
      "source": [
        "<a href=\"https://colab.research.google.com/github/Nezu-life/Data_Science_For_Medicine_and_Biology/blob/main/Colab_Notebooks/Python_Pandas_summarize_data.ipynb\" target=\"_parent\"><img src=\"https://colab.research.google.com/assets/colab-badge.svg\" alt=\"Open In Colab\"/></a>"
      ]
    },
    {
      "cell_type": "code",
      "execution_count": null,
      "metadata": {
        "colab": {
          "base_uri": "https://localhost:8080/"
        },
        "id": "_eyZLIn0Jmh4",
        "outputId": "110a79a6-86df-4735-9046-bc1a936fb3f8"
      },
      "outputs": [
        {
          "output_type": "stream",
          "name": "stdout",
          "text": [
            "  Patient ID   Age  Gender  Height  Weight Blood_Type  Cholesterol  \\\n",
            "0   PID-0001  69.0    Male   177.1   146.6         A-        220.2   \n",
            "1   PID-0002   NaN    Male   192.1   105.8         B+          NaN   \n",
            "2   PID-0003  89.0   Other   174.2    84.7         O+        136.3   \n",
            "3   PID-0004  78.0  Female   141.8   108.0        AB-        147.8   \n",
            "4   PID-0005  38.0    Male   195.9    63.9         A-        224.2   \n",
            "\n",
            "   Blood_Pressure_h  Blood_Pressure_l  Diabetes  Smoker  \n",
            "0             138.0              84.0     False   False  \n",
            "1              99.0              81.0     False   False  \n",
            "2             105.0              75.0      True    True  \n",
            "3              97.0              88.0      True   False  \n",
            "4             128.0              87.0     False   False  \n"
          ]
        }
      ],
      "source": [
        "# Data Science for Medicine and Biology\n",
        "#\n",
        "# Nezu Life Sciences\n",
        "#\n",
        "# Feel free to modify, redistribute and above all,\n",
        "# create something with this code.\n",
        "#\n",
        "# Tiago Lopes, PhD\n",
        "# March 2024\n",
        "\n",
        "# Import a large dataset from the Nezu Life Sciences repository\n",
        "# Print its \"shape\" (number of rows and columns)\n",
        "# and its first 5 rows.\n",
        "\n",
        "import pandas as pd\n",
        "\n",
        "URL = \"https://raw.githubusercontent.com/Nezu-life/Machine_Learning_Course_English/main/Intro_to_Python/datasets/synthetic_patient_records.csv\"\n",
        "\n",
        "patients = pd.read_csv(URL, sep=\",\")\n",
        "\n",
        "print(patients.head(5))\n"
      ]
    },
    {
      "cell_type": "code",
      "source": [
        "# Summarize the info of the Age column\n",
        "print(patients.describe())\n"
      ],
      "metadata": {
        "colab": {
          "base_uri": "https://localhost:8080/"
        },
        "id": "3e0pI-1TKoRo",
        "outputId": "68b00c79-f997-412c-c9ed-d5369de8c63b"
      },
      "execution_count": null,
      "outputs": [
        {
          "output_type": "stream",
          "name": "stdout",
          "text": [
            "              Age      Height      Weight  Cholesterol  Blood_Pressure_h  \\\n",
            "count  974.000000  977.000000  981.000000   982.000000        971.000000   \n",
            "mean    56.662218  169.838792  100.191335   179.088697        114.412976   \n",
            "std     23.373588   17.181778   28.987474    34.498199         14.472633   \n",
            "min     18.000000  140.100000   50.000000   120.000000         90.000000   \n",
            "25%     36.000000  155.400000   75.100000   148.900000        102.000000   \n",
            "50%     56.000000  170.400000  100.600000   178.650000        115.000000   \n",
            "75%     77.000000  184.200000  125.100000   209.000000        127.000000   \n",
            "max     99.000000  200.000000  149.900000   239.700000        139.000000   \n",
            "\n",
            "       Blood_Pressure_l  \n",
            "count        971.000000  \n",
            "mean          74.381050  \n",
            "std            8.441369  \n",
            "min           60.000000  \n",
            "25%           67.000000  \n",
            "50%           75.000000  \n",
            "75%           82.000000  \n",
            "max           89.000000  \n"
          ]
        }
      ]
    },
    {
      "cell_type": "code",
      "source": [
        "# Prints the average of the cholesterol values\n",
        "\n",
        "mean_cholesterol = patients[\"Cholesterol\"].mean()\n",
        "\n",
        "print(mean_cholesterol)\n"
      ],
      "metadata": {
        "colab": {
          "base_uri": "https://localhost:8080/"
        },
        "id": "McN47pJkKemz",
        "outputId": "0ad6ea13-ff04-4301-d48e-c41f33d1f47a"
      },
      "execution_count": null,
      "outputs": [
        {
          "output_type": "stream",
          "name": "stdout",
          "text": [
            "179.08869653767817\n"
          ]
        }
      ]
    },
    {
      "cell_type": "code",
      "source": [
        "# Compares the average cholesterol of male and female patients\n",
        "\n",
        "male_chol = patients.loc[patients[\"Gender\"] == \"Male\"][\"Cholesterol\"].mean()\n",
        "\n",
        "female_chol = patients.loc[patients[\"Gender\"] == \"Female\"][\"Cholesterol\"].mean()\n",
        "\n",
        "print(\"Male: \", male_chol, \"Female:\", female_chol)"
      ],
      "metadata": {
        "colab": {
          "base_uri": "https://localhost:8080/"
        },
        "id": "EbpuAOStK6ZD",
        "outputId": "d7b9eec1-befc-4089-8391-764a0dedcce2"
      },
      "execution_count": null,
      "outputs": [
        {
          "output_type": "stream",
          "name": "stdout",
          "text": [
            "Male:  179.02037037037036 Female: 177.87407407407406\n"
          ]
        }
      ]
    },
    {
      "cell_type": "code",
      "source": [
        "# Print unique blood types\n",
        "\n",
        "blood_types = patients['Blood_Type'].unique()\n",
        "\n",
        "print(blood_types)\n"
      ],
      "metadata": {
        "colab": {
          "base_uri": "https://localhost:8080/"
        },
        "id": "TgZTrWvuLkOX",
        "outputId": "bdae19cb-1ae9-4293-84e7-dfd233643bda"
      },
      "execution_count": null,
      "outputs": [
        {
          "output_type": "stream",
          "name": "stdout",
          "text": [
            "['A-' 'B+' 'O+' 'AB-' 'O-' 'AB+' 'B-' nan 'A+']\n"
          ]
        }
      ]
    },
    {
      "cell_type": "code",
      "source": [
        "# How often did each blood type occur in the dataset?\n",
        "\n",
        "print(patients[\"Blood_Type\"].value_counts())\n"
      ],
      "metadata": {
        "colab": {
          "base_uri": "https://localhost:8080/"
        },
        "id": "VPGBzQAhL17U",
        "outputId": "d0d64b7a-0869-4134-c07c-199bbd72e452"
      },
      "execution_count": null,
      "outputs": [
        {
          "output_type": "stream",
          "name": "stdout",
          "text": [
            "O-     147\n",
            "O+     138\n",
            "AB-    130\n",
            "A-     115\n",
            "A+     114\n",
            "B-     113\n",
            "AB+    111\n",
            "B+     110\n",
            "Name: Blood_Type, dtype: int64\n"
          ]
        }
      ]
    },
    {
      "cell_type": "code",
      "source": [
        "# A question for this lesson\n",
        "\n",
        "print(patients['Diabetes'].value_counts())\n"
      ],
      "metadata": {
        "colab": {
          "base_uri": "https://localhost:8080/"
        },
        "id": "WuABbutAMT00",
        "outputId": "38b1443a-aea3-459b-f331-8ef7d55942ae"
      },
      "execution_count": null,
      "outputs": [
        {
          "output_type": "stream",
          "name": "stdout",
          "text": [
            "False    504\n",
            "True     496\n",
            "Name: Diabetes, dtype: int64\n"
          ]
        }
      ]
    }
  ]
}