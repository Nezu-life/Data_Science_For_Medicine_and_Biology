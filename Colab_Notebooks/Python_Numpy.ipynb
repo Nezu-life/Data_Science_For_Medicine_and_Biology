{
  "nbformat": 4,
  "nbformat_minor": 0,
  "metadata": {
    "colab": {
      "provenance": []
    },
    "kernelspec": {
      "name": "python3",
      "display_name": "Python 3"
    },
    "language_info": {
      "name": "python"
    }
  },
  "cells": [
    {
      "cell_type": "code",
      "source": [
        "# Data Science for Medicine and Biology\n",
        "#\n",
        "# Nezu Life Sciences\n",
        "#\n",
        "# Feel free to modify, redistribute and above all,\n",
        "# create something with this code.\n",
        "#\n",
        "# Tiago Lopes, PhD\n",
        "# March 2024\n",
        "\n",
        "import numpy as np\n",
        "\n",
        "# Python list of patient ages\n",
        "patient_ages_list = [29, 35, 46, 52, 38]\n",
        "\n",
        "# Convert to a NumPy array for efficient computation\n",
        "patient_ages_array = np.array(patient_ages_list)\n",
        "\n",
        "print(patient_ages_array)"
      ],
      "metadata": {
        "colab": {
          "base_uri": "https://localhost:8080/"
        },
        "id": "yRuCWttsLBKb",
        "outputId": "1717fa4f-7daa-4504-e67a-87bdda53162d"
      },
      "execution_count": null,
      "outputs": [
        {
          "output_type": "stream",
          "name": "stdout",
          "text": [
            "[29 35 46 52 38]\n"
          ]
        }
      ]
    },
    {
      "cell_type": "code",
      "source": [
        "# Recovery times in days for 5 patients\n",
        "recovery_times = np.array([5, 7, 3, 4, 6])\n",
        "\n",
        "print(recovery_times)"
      ],
      "metadata": {
        "colab": {
          "base_uri": "https://localhost:8080/"
        },
        "id": "57DzqSgDMexW",
        "outputId": "daaa493b-53d8-44d9-9917-1f7af5a7293e"
      },
      "execution_count": null,
      "outputs": [
        {
          "output_type": "stream",
          "name": "stdout",
          "text": [
            "[5 7 3 4 6]\n"
          ]
        }
      ]
    },
    {
      "cell_type": "code",
      "source": [
        "# Add a new recovery time\n",
        "recovery_times = np.append(recovery_times, 8)\n",
        "print(recovery_times)\n",
        "\n",
        "# Remove an outlier\n",
        "recovery_times = np.delete(recovery_times, [2])\n",
        "print(recovery_times)\n",
        "\n",
        "# Sort the recovery times\n",
        "recovery_times = np.sort(recovery_times)\n",
        "\n",
        "print(recovery_times)"
      ],
      "metadata": {
        "colab": {
          "base_uri": "https://localhost:8080/"
        },
        "id": "DhlnqJ33MjxJ",
        "outputId": "dd6ddf50-85fe-497f-8e12-5a1632d01137"
      },
      "execution_count": null,
      "outputs": [
        {
          "output_type": "stream",
          "name": "stdout",
          "text": [
            "[5 7 3 4 6 8]\n",
            "[5 7 4 6 8]\n",
            "[4 5 6 7 8]\n"
          ]
        }
      ]
    },
    {
      "cell_type": "code",
      "source": [
        "# Simulated gene expression data for 200 samples across 5000 genes\n",
        "gene_expression_data = np.random.rand(200, 5000)\n",
        "\n",
        "print(gene_expression_data.shape)"
      ],
      "metadata": {
        "colab": {
          "base_uri": "https://localhost:8080/"
        },
        "id": "-wOUqKF-Mtvm",
        "outputId": "c86d90d1-0de8-4bfb-85f4-54baa4c683d6"
      },
      "execution_count": null,
      "outputs": [
        {
          "output_type": "stream",
          "name": "stdout",
          "text": [
            "(200, 5000)\n"
          ]
        }
      ]
    },
    {
      "cell_type": "code",
      "source": [
        "print(gene_expression_data)"
      ],
      "metadata": {
        "colab": {
          "base_uri": "https://localhost:8080/"
        },
        "id": "N9i0qocVQj62",
        "outputId": "c4486c35-897a-4c18-b9c4-3c784bd73c97"
      },
      "execution_count": null,
      "outputs": [
        {
          "output_type": "stream",
          "name": "stdout",
          "text": [
            "[[0.27640969 0.38947591 0.30981876 ... 0.86204437 0.79581158 0.24028972]\n",
            " [0.35543121 0.9626672  0.41483829 ... 0.97901741 0.01267318 0.55381022]\n",
            " [0.73727491 0.84258493 0.01771031 ... 0.28950518 0.33145379 0.06796359]\n",
            " ...\n",
            " [0.73928752 0.01961793 0.08996656 ... 0.20270526 0.01540128 0.26542014]\n",
            " [0.90840226 0.24846658 0.90554345 ... 0.70608061 0.80416174 0.13223595]\n",
            " [0.38694703 0.66774549 0.91117477 ... 0.73181533 0.37538491 0.83891723]]\n"
          ]
        }
      ]
    },
    {
      "cell_type": "code",
      "source": [
        "# Simulating blood pressure readings for 5 patients over 6 days\n",
        "bp_readings = np.arange(30)\n",
        "\n",
        "print(\"Before reshaping\")\n",
        "print(bp_readings)\n",
        "\n",
        "bp_readings = bp_readings.reshape(5, 6)\n",
        "\n",
        "print(\"After reshaping\")\n",
        "print(bp_readings)"
      ],
      "metadata": {
        "colab": {
          "base_uri": "https://localhost:8080/"
        },
        "id": "Jyg-3yCgM1Kb",
        "outputId": "722fa450-102d-4fa5-8175-a4b62bde1fa7"
      },
      "execution_count": null,
      "outputs": [
        {
          "output_type": "stream",
          "name": "stdout",
          "text": [
            "Before reshaping\n",
            "[ 0  1  2  3  4  5  6  7  8  9 10 11 12 13 14 15 16 17 18 19 20 21 22 23\n",
            " 24 25 26 27 28 29]\n",
            "After reshaping\n",
            "[[ 0  1  2  3  4  5]\n",
            " [ 6  7  8  9 10 11]\n",
            " [12 13 14 15 16 17]\n",
            " [18 19 20 21 22 23]\n",
            " [24 25 26 27 28 29]]\n"
          ]
        }
      ]
    },
    {
      "cell_type": "code",
      "source": [
        "# Extract data for the third patient\n",
        "third_patient_data = bp_readings[2, :]\n",
        "print(\"Third patient:\")\n",
        "print(third_patient_data)\n",
        "\n",
        "# Compare the first and second blood pressure readings for all patients\n",
        "first_second_parameters = bp_readings[:, :2]\n",
        "\n",
        "print(\"First and second measurements:\")\n",
        "print(first_second_parameters)"
      ],
      "metadata": {
        "colab": {
          "base_uri": "https://localhost:8080/"
        },
        "id": "maup43fINNPs",
        "outputId": "83fb44ca-6110-43ba-c1c6-88717692aa7a"
      },
      "execution_count": null,
      "outputs": [
        {
          "output_type": "stream",
          "name": "stdout",
          "text": [
            "Third patient:\n",
            "[12 13 14 15 16 17]\n",
            "First and second measurements:\n",
            "[[ 0  1]\n",
            " [ 6  7]\n",
            " [12 13]\n",
            " [18 19]\n",
            " [24 25]]\n"
          ]
        }
      ]
    },
    {
      "cell_type": "code",
      "source": [
        "# Pre-treatment and post-treatment biomarker levels\n",
        "pre_treatment = np.array([4.5, 5.0, 5.5])\n",
        "post_treatment = np.array([5.0, 5.5, 6.0])\n",
        "\n",
        "increase = post_treatment - pre_treatment\n",
        "\n",
        "print(increase)"
      ],
      "metadata": {
        "colab": {
          "base_uri": "https://localhost:8080/"
        },
        "id": "BwoBs06aNmz9",
        "outputId": "c70cc7cb-6df2-4b8d-b038-5ee451724754"
      },
      "execution_count": null,
      "outputs": [
        {
          "output_type": "stream",
          "name": "stdout",
          "text": [
            "[0.5 0.5 0.5]\n"
          ]
        }
      ]
    },
    {
      "cell_type": "code",
      "source": [
        "# Heights (in meters) and weights (in kilograms) of 5 patients\n",
        "heights = np.array([1.75, 1.8, 1.65, 1.9, 1.74])\n",
        "weights = np.array([70, 80, 60, 90, 75])\n",
        "\n",
        "bmis = weights / heights**2\n",
        "\n",
        "print(bmis)"
      ],
      "metadata": {
        "colab": {
          "base_uri": "https://localhost:8080/"
        },
        "id": "JO4rHquuPAan",
        "outputId": "acc201b2-e8ed-4e24-cd09-4550602677c0"
      },
      "execution_count": null,
      "outputs": [
        {
          "output_type": "stream",
          "name": "stdout",
          "text": [
            "[22.85714286 24.69135802 22.03856749 24.93074792 24.77209671]\n"
          ]
        }
      ]
    },
    {
      "cell_type": "code",
      "source": [
        "mutations = np.array(['A', 'B', 'A', 'C', 'B', 'A', 'D', 'A'])\n",
        "\n",
        "unique_mutations = np.unique(mutations)\n",
        "\n",
        "print(unique_mutations)"
      ],
      "metadata": {
        "colab": {
          "base_uri": "https://localhost:8080/"
        },
        "id": "LuPoTjYKOrI2",
        "outputId": "13a73eef-8cc8-4eaf-cf0c-4a484a828cb1"
      },
      "execution_count": null,
      "outputs": [
        {
          "output_type": "stream",
          "name": "stdout",
          "text": [
            "['A' 'B' 'C' 'D']\n"
          ]
        }
      ]
    },
    {
      "cell_type": "code",
      "source": [
        "mutations = np.array(['A', 'B', 'A', 'C', 'B', 'A', 'D', 'A'])\n",
        "\n",
        "unique_mutations, counts = np.unique(mutations, return_counts=True)\n",
        "\n",
        "print(counts)"
      ],
      "metadata": {
        "colab": {
          "base_uri": "https://localhost:8080/"
        },
        "id": "IsKfZRVmSFUW",
        "outputId": "e3c64c8b-4b20-4d78-a793-01b9333a4a8e"
      },
      "execution_count": null,
      "outputs": [
        {
          "output_type": "stream",
          "name": "stdout",
          "text": [
            "[4 2 1 1]\n"
          ]
        }
      ]
    },
    {
      "cell_type": "code",
      "source": [
        "# Simulating the response of 10 patients to a medication\n",
        "patient_responses = np.random.randint(0, 11, 10)\n",
        "\n",
        "print(patient_responses)"
      ],
      "metadata": {
        "colab": {
          "base_uri": "https://localhost:8080/"
        },
        "id": "mQHbTcT7OuUe",
        "outputId": "480ed815-08ba-4fae-bc20-d0b6df43ded5"
      },
      "execution_count": null,
      "outputs": [
        {
          "output_type": "stream",
          "name": "stdout",
          "text": [
            "[ 8  2  3 10  3  2  2  2  5  4]\n"
          ]
        }
      ]
    },
    {
      "cell_type": "code",
      "source": [
        "# Saving the processed genetic data array\n",
        "np.save('processed_patient_responses.npy', patient_responses)\n",
        "\n",
        "# Loading the genetic data array in a new session\n",
        "loaded_genetic_data = np.load('processed_patient_responses.npy')"
      ],
      "metadata": {
        "id": "LDVrb-NBPDo1"
      },
      "execution_count": null,
      "outputs": []
    },
    {
      "cell_type": "code",
      "source": [
        "# Today's question\n",
        "\n",
        "myArray = np.ones(15).reshape(3,5)\n",
        "\n",
        "randomInt = np.random.randint(0, 100, 15)\n",
        "randomInt = randomInt.reshape(3,5)\n",
        "\n",
        "myArray = myArray + randomInt\n",
        "\n",
        "print(myArray)"
      ],
      "metadata": {
        "colab": {
          "base_uri": "https://localhost:8080/"
        },
        "id": "Skq_i2jGPKRV",
        "outputId": "d1668e74-3f7a-4d1f-b99f-06650e4b16b9"
      },
      "execution_count": null,
      "outputs": [
        {
          "output_type": "stream",
          "name": "stdout",
          "text": [
            "[[58. 23. 28. 23. 35.]\n",
            " [24. 23. 66. 59. 62.]\n",
            " [93. 30. 32. 18. 67.]]\n"
          ]
        }
      ]
    }
  ]
}