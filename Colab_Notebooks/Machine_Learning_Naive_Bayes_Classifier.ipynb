{
  "nbformat": 4,
  "nbformat_minor": 0,
  "metadata": {
    "colab": {
      "provenance": []
    },
    "kernelspec": {
      "name": "python3",
      "display_name": "Python 3"
    },
    "language_info": {
      "name": "python"
    }
  },
  "cells": [
    {
      "cell_type": "code",
      "execution_count": null,
      "metadata": {
        "colab": {
          "base_uri": "https://localhost:8080/"
        },
        "id": "ZAGfKopsujpE",
        "outputId": "38de13f2-376f-41e2-cc0d-4c266158fb47"
      },
      "outputs": [
        {
          "output_type": "stream",
          "name": "stdout",
          "text": [
            "*Accuracy of this fold: 0.8932038834951457\n",
            "*Accuracy of this fold: 0.7572815533980582\n",
            "*Accuracy of this fold: 0.8543689320388349\n",
            "*Accuracy of this fold: 0.8446601941747572\n",
            "*Accuracy of this fold: 0.883495145631068\n",
            "*Accuracy of this fold: 0.803921568627451\n",
            "*Accuracy of this fold: 0.7941176470588235\n",
            "*Accuracy of this fold: 0.8137254901960784\n",
            "*Accuracy of this fold: 0.7941176470588235\n",
            "*Accuracy of this fold: 0.8137254901960784\n",
            "Average accuracy: 0.8252617551875119\n"
          ]
        }
      ],
      "source": [
        "# Data Science for Medicine and Biology\n",
        "#\n",
        "# Nezu Life Sciences\n",
        "#\n",
        "# Feel free to modify, redistribute and above all,\n",
        "# create something with this code.\n",
        "#\n",
        "# Tiago Lopes, PhD\n",
        "# March 2024\n",
        "\n",
        "from sklearn.model_selection import StratifiedKFold\n",
        "from sklearn.naive_bayes import GaussianNB\n",
        "from sklearn.preprocessing import StandardScaler\n",
        "from sklearn.metrics import accuracy_score\n",
        "import numpy as np\n",
        "import pandas as pd\n",
        "\n",
        "# Load the heart disease dataset\n",
        "fileName = \"https://raw.githubusercontent.com/Nezu-life/Data_Science_For_Medicine_and_Biology/main/datasets/heart_disease.csv\"\n",
        "data = pd.read_csv(fileName)\n",
        "\n",
        "X = data.drop(\"disease\", axis=1)\n",
        "y = data[\"disease\"]\n",
        "\n",
        "# Initialize 10-fold cross-validation\n",
        "skf = StratifiedKFold(n_splits=10, shuffle=True, random_state=42)\n",
        "\n",
        "accuracies = []\n",
        "\n",
        "for train_index, test_index in skf.split(X, y):\n",
        "    # Splitting data into training and test sets\n",
        "    X_train, X_test = X.iloc[train_index], X.iloc[test_index]\n",
        "    y_train, y_test = y.iloc[train_index], y.iloc[test_index]\n",
        "\n",
        "    # Standardizing the features based on the training set\n",
        "    scaler = StandardScaler()\n",
        "    X_train_scaled = scaler.fit_transform(X_train)\n",
        "    X_test_scaled = scaler.transform(X_test)\n",
        "\n",
        "    # Training a logistic regression model\n",
        "    model = GaussianNB()\n",
        "    model.fit(X_train_scaled, y_train)\n",
        "\n",
        "    # Predicting and evaluating the model\n",
        "    y_pred = model.predict(X_test_scaled)\n",
        "    accuracy = accuracy_score(y_test, y_pred)\n",
        "    accuracies.append(accuracy)\n",
        "\n",
        "    print(\"*Accuracy of this fold:\", accuracy)\n",
        "\n",
        "# Calculating average accuracy and standard deviation\n",
        "average_accuracy = np.mean(accuracies)\n",
        "\n",
        "# Printing the average accuracy and standard deviation\n",
        "print(f\"Average accuracy:\", average_accuracy)\n"
      ]
    }
  ]
}