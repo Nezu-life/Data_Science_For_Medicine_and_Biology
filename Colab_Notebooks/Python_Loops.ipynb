{
  "nbformat": 4,
  "nbformat_minor": 0,
  "metadata": {
    "colab": {
      "provenance": [],
      "authorship_tag": "ABX9TyNpdhTyT93DMzif01+QIBUv",
      "include_colab_link": true
    },
    "kernelspec": {
      "name": "python3",
      "display_name": "Python 3"
    },
    "language_info": {
      "name": "python"
    }
  },
  "cells": [
    {
      "cell_type": "markdown",
      "metadata": {
        "id": "view-in-github",
        "colab_type": "text"
      },
      "source": [
        "<a href=\"https://colab.research.google.com/github/Nezu-life/Data_Science_For_Medicine_and_Biology/blob/main/Colab_Notebooks/Python_Loops.ipynb\" target=\"_parent\"><img src=\"https://colab.research.google.com/assets/colab-badge.svg\" alt=\"Open In Colab\"/></a>"
      ]
    },
    {
      "cell_type": "code",
      "execution_count": null,
      "metadata": {
        "colab": {
          "base_uri": "https://localhost:8080/"
        },
        "id": "N5EY5lVHbveW",
        "outputId": "5d37b80a-035e-44c6-bd0c-1a8f06a39777"
      },
      "outputs": [
        {
          "output_type": "stream",
          "name": "stdout",
          "text": [
            "For Loop Example:\n",
            "Patient age: 30\n",
            "Patient age: 40\n",
            "Patient age: 50\n",
            "Patient age: 60\n"
          ]
        }
      ],
      "source": [
        "# Data Science for Medicine and Biology\n",
        "#\n",
        "# Nezu Life Sciences\n",
        "#\n",
        "# Feel free to modify, redistribute and above all,\n",
        "# create something with this code.\n",
        "#\n",
        "# Tiago Lopes, PhD\n",
        "# March 2024\n",
        "\n",
        "print(\"For Loop Example:\")\n",
        "\n",
        "patient_ages = [30, 40, 50, 60]\n",
        "\n",
        "for age in patient_ages:\n",
        "    print(\"Patient age:\", age)\n"
      ]
    },
    {
      "cell_type": "code",
      "source": [
        "print(\"For Loop Example:\")\n",
        "\n",
        "for i in range(5):\n",
        "    print(\"Number:\", i)\n"
      ],
      "metadata": {
        "colab": {
          "base_uri": "https://localhost:8080/"
        },
        "id": "Y3XwUEFQ97U3",
        "outputId": "36eb7dc4-5065-49a4-c39e-d7656dacc4bb"
      },
      "execution_count": null,
      "outputs": [
        {
          "output_type": "stream",
          "name": "stdout",
          "text": [
            "For Loop Example:\n",
            "Number: 0\n",
            "Number: 1\n",
            "Number: 2\n",
            "Number: 3\n",
            "Number: 4\n"
          ]
        }
      ]
    },
    {
      "cell_type": "code",
      "source": [
        "print(\"While Loop Example:\")\n",
        "\n",
        "countdown = 5\n",
        "\n",
        "while countdown > 0:\n",
        "    print(\"Countdown:\", countdown)\n",
        "    countdown = countdown - 1\n"
      ],
      "metadata": {
        "colab": {
          "base_uri": "https://localhost:8080/"
        },
        "id": "egDRrYq4C4qX",
        "outputId": "f5c8c48e-8976-4a90-efc7-1a578e74bdbf"
      },
      "execution_count": null,
      "outputs": [
        {
          "output_type": "stream",
          "name": "stdout",
          "text": [
            "While Loop Example:\n",
            "Countdown: 5\n",
            "Countdown: 4\n",
            "Countdown: 3\n",
            "Countdown: 2\n",
            "Countdown: 1\n"
          ]
        }
      ]
    },
    {
      "cell_type": "code",
      "source": [
        "print(\"Nested Loops Example:\")\n",
        "\n",
        "for i in range(3):\n",
        "    for j in range(2):\n",
        "        print(\"Coordinates:\", i, j)\n"
      ],
      "metadata": {
        "colab": {
          "base_uri": "https://localhost:8080/"
        },
        "id": "kiJyo0jdGRVw",
        "outputId": "78a6e453-54c9-4172-c932-a65747456d27"
      },
      "execution_count": null,
      "outputs": [
        {
          "output_type": "stream",
          "name": "stdout",
          "text": [
            "Coordinates: 0 0\n",
            "Coordinates: 0 1\n",
            "Coordinates: 1 0\n",
            "Coordinates: 1 1\n",
            "Coordinates: 2 0\n",
            "Coordinates: 2 1\n"
          ]
        }
      ]
    },
    {
      "cell_type": "code",
      "source": [
        "print(\"Question of the lesson:\")\n",
        "\n",
        "for i in range(10):\n",
        "    print(\"Good morning.\")\n"
      ],
      "metadata": {
        "colab": {
          "base_uri": "https://localhost:8080/"
        },
        "id": "e5CQMcf7L5NS",
        "outputId": "6d3bff2b-5d80-4d9d-d2aa-108f00c4a74b"
      },
      "execution_count": null,
      "outputs": [
        {
          "output_type": "stream",
          "name": "stdout",
          "text": [
            "Question of the lesson:\n",
            "Good morning.\n",
            "Good morning.\n",
            "Good morning.\n",
            "Good morning.\n",
            "Good morning.\n",
            "Good morning.\n",
            "Good morning.\n",
            "Good morning.\n",
            "Good morning.\n",
            "Good morning.\n"
          ]
        }
      ]
    }
  ]
}