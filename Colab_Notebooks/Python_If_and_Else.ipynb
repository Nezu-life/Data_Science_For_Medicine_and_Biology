{
  "nbformat": 4,
  "nbformat_minor": 0,
  "metadata": {
    "colab": {
      "provenance": []
    },
    "kernelspec": {
      "name": "python3",
      "display_name": "Python 3"
    },
    "language_info": {
      "name": "python"
    }
  },
  "cells": [
    {
      "cell_type": "code",
      "execution_count": null,
      "metadata": {
        "id": "W2bdeTYS9ekR"
      },
      "outputs": [],
      "source": [
        "# Data Science for Medicine and Biology\n",
        "#\n",
        "# Nezu Life Sciences\n",
        "#\n",
        "# Feel free to modify, redistribute and above all,\n",
        "# create something with this code.\n",
        "#\n",
        "# Tiago Lopes, PhD\n",
        "# March 2024\n",
        "\n",
        "condition = True\n",
        "\n",
        "if(condition):\n",
        "  # do something\n",
        "  print(\"The condition is true.\")\n",
        "else:\n",
        "  # do something else\n",
        "  print(\"The condition is false.\")\n"
      ]
    },
    {
      "cell_type": "code",
      "source": [
        "hemoglobin_level = 10 # measured in g/dL\n",
        "\n",
        "if(hemoglobin_level < 12):\n",
        "    print(\"The patient may have anemia.\")\n",
        "else:\n",
        "    print(\"The patient's hemoglobin level is normal.\")\n"
      ],
      "metadata": {
        "colab": {
          "base_uri": "https://localhost:8080/"
        },
        "id": "ubd2F-q--p7S",
        "outputId": "8a0214ef-8ff6-44e1-9f8b-90653ff7d408"
      },
      "execution_count": null,
      "outputs": [
        {
          "output_type": "stream",
          "name": "stdout",
          "text": [
            "The patient may have anemia.\n"
          ]
        }
      ]
    },
    {
      "cell_type": "code",
      "source": [
        "colonies_count = 150\n",
        "\n",
        "if(colonies_count > 100):\n",
        "    print(\"High bacterial growth.\")\n",
        "else:\n",
        "    print(\"Normal bacterial growth.\")\n"
      ],
      "metadata": {
        "colab": {
          "base_uri": "https://localhost:8080/"
        },
        "id": "ndBrOD6x-_Cr",
        "outputId": "d18c32bb-9667-4673-c5f6-83eb23b6dfc7"
      },
      "execution_count": null,
      "outputs": [
        {
          "output_type": "stream",
          "name": "stdout",
          "text": [
            "High bacterial growth.\n"
          ]
        }
      ]
    },
    {
      "cell_type": "code",
      "source": [
        "patient_age = 45\n",
        "\n",
        "if(patient_age < 12):\n",
        "  print(\"10mg\")  # Pediatric dosage\n",
        "elif(patient_age < 18):\n",
        "  print(\"20mg\")  # Adolescent dosage\n",
        "elif(patient_age < 65):\n",
        "  print(\"30mg\")  # Adult dosage\n",
        "else:\n",
        "  print(\"25mg\")  # Senior dosage"
      ],
      "metadata": {
        "colab": {
          "base_uri": "https://localhost:8080/"
        },
        "id": "ZNarqBaIXfOE",
        "outputId": "1f289011-7242-40c9-d627-9ac99be462b1"
      },
      "execution_count": null,
      "outputs": [
        {
          "output_type": "stream",
          "name": "stdout",
          "text": [
            "30mg\n"
          ]
        }
      ]
    },
    {
      "cell_type": "code",
      "source": [
        "# Example with logical operator 'and'\n",
        "\n",
        "glucose_level = 110  # mg/dL\n",
        "has_symptoms = True\n",
        "\n",
        "if(glucose_level > 100 and has_symptoms):\n",
        "    print(\"High risk of diabetes.\")\n",
        "else:\n",
        "    print(\"No diabetes risk at the moment.\")\n"
      ],
      "metadata": {
        "colab": {
          "base_uri": "https://localhost:8080/"
        },
        "id": "aCyJhh5bAN-T",
        "outputId": "53814831-6e2e-4c30-a2eb-1e24f4eb63fb"
      },
      "execution_count": null,
      "outputs": [
        {
          "output_type": "stream",
          "name": "stdout",
          "text": [
            "High risk of diabetes.\n"
          ]
        }
      ]
    },
    {
      "cell_type": "code",
      "source": [
        "# Example with logical operator 'or'\n",
        "\n",
        "patient_coughing = False\n",
        "patient_fever = True\n",
        "\n",
        "if(patient_coughing or patient_fever):\n",
        "    print(\"Patient requires medical evaluation for possible infection.\")\n",
        "else:\n",
        "    print(\"Symptoms do not indicate immediate concern.\")\n"
      ],
      "metadata": {
        "colab": {
          "base_uri": "https://localhost:8080/"
        },
        "id": "B-WtbUY7zGQM",
        "outputId": "99681491-20f1-4d50-fa7f-8d7fa041346c"
      },
      "execution_count": null,
      "outputs": [
        {
          "output_type": "stream",
          "name": "stdout",
          "text": [
            "Patient may require a medical evaluation for possible infection.\n"
          ]
        }
      ]
    },
    {
      "cell_type": "code",
      "source": [
        "bacteria_type = \"E. coli\"\n",
        "resistant_to_amoxicillin = False\n",
        "\n",
        "if(bacteria_type == \"E. coli\" and not resistant_to_amoxicillin):\n",
        "    print(\"Recommend amoxicillin treatment.\")\n",
        "else:\n",
        "    print(\"Further antibiotic susceptibility testing needed.\")\n"
      ],
      "metadata": {
        "colab": {
          "base_uri": "https://localhost:8080/"
        },
        "id": "WTLg8F_62E-A",
        "outputId": "cb9481c2-8844-4a83-db06-41c5a1ee760f"
      },
      "execution_count": null,
      "outputs": [
        {
          "output_type": "stream",
          "name": "stdout",
          "text": [
            "Recommend amoxicillin treatment.\n"
          ]
        }
      ]
    },
    {
      "cell_type": "code",
      "source": [
        "patient_age = 68\n",
        "patient_overweight = True\n",
        "\n",
        "if(patient_age > 65 and patient_overweight == True):\n",
        "  print(\"The senior patient is overweight.\")\n",
        "elif(patient_age <= 65 and patient_overweight == True):\n",
        "  print(\"The patient is overweight.\")\n",
        "else:\n",
        "  print(\"The patient is not senior and not overweight.\")\n"
      ],
      "metadata": {
        "colab": {
          "base_uri": "https://localhost:8080/"
        },
        "id": "qXOc8ixn51eL",
        "outputId": "db2c6b88-deac-43f3-a013-3e0508c8627c"
      },
      "execution_count": null,
      "outputs": [
        {
          "output_type": "stream",
          "name": "stdout",
          "text": [
            "The senior patient is overweight.\n"
          ]
        }
      ]
    }
  ]
}