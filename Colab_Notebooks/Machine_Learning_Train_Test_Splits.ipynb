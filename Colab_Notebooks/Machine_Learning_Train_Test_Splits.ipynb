{
  "nbformat": 4,
  "nbformat_minor": 0,
  "metadata": {
    "colab": {
      "provenance": []
    },
    "kernelspec": {
      "name": "python3",
      "display_name": "Python 3"
    },
    "language_info": {
      "name": "python"
    }
  },
  "cells": [
    {
      "cell_type": "code",
      "execution_count": null,
      "metadata": {
        "colab": {
          "base_uri": "https://localhost:8080/"
        },
        "id": "Mf6uLTeNt6Tc",
        "outputId": "f563bed0-9da7-493c-e83f-2a690ed4565d"
      },
      "outputs": [
        {
          "output_type": "stream",
          "name": "stdout",
          "text": [
            "Average accuracy: 0.8429754426042262\n"
          ]
        }
      ],
      "source": [
        "# Data Science for Medicine and Biology\n",
        "#\n",
        "# Nezu Life Sciences\n",
        "#\n",
        "# Feel free to modify, redistribute and above all,\n",
        "# create something with this code.\n",
        "#\n",
        "# Tiago Lopes, PhD\n",
        "# March 2024\n",
        "\n",
        "from sklearn.model_selection import KFold\n",
        "from sklearn.linear_model import LogisticRegression\n",
        "from sklearn.preprocessing import StandardScaler\n",
        "from sklearn.metrics import accuracy_score\n",
        "import numpy as np\n",
        "import pandas as pd\n",
        "\n",
        "# Assuming 'heart_disease.csv' is in your working directory and properly formatted\n",
        "# Load the heart disease dataset\n",
        "fileName = \"https://raw.githubusercontent.com/Nezu-life/Data_Science_For_Medicine_and_Biology/main/datasets/heart_disease.csv\"\n",
        "data = pd.read_csv(fileName)\n",
        "\n",
        "X = data.drop(\"disease\", axis=1)\n",
        "y = data[\"disease\"]\n",
        "\n",
        "# Initialize 10-fold cross-validation\n",
        "kf = KFold(n_splits=10, shuffle=True, random_state=42)\n",
        "\n",
        "accuracies = []\n",
        "\n",
        "for train_index, test_index in kf.split(X, y):\n",
        "    # Splitting data into training and test sets for the current fold using .iloc for row selection\n",
        "    X_train, X_test = X.iloc[train_index], X.iloc[test_index]\n",
        "    y_train, y_test = y.iloc[train_index], y.iloc[test_index]\n",
        "\n",
        "    # Standardizing the features based on the training set\n",
        "    scaler = StandardScaler()\n",
        "    X_train_scaled = scaler.fit_transform(X_train)\n",
        "    X_test_scaled = scaler.transform(X_test)\n",
        "\n",
        "    # Training a logistic regression model\n",
        "    model = LogisticRegression()\n",
        "    model.fit(X_train_scaled, y_train)\n",
        "\n",
        "    # Predicting and evaluating the model\n",
        "    y_pred = model.predict(X_test_scaled)\n",
        "    accuracy = accuracy_score(y_test, y_pred)\n",
        "    accuracies.append(accuracy)\n",
        "\n",
        "# Calculating average accuracy\n",
        "\n",
        "average_accuracy = np.mean(accuracies)\n",
        "\n",
        "print(f\"Average accuracy:\", average_accuracy)\n"
      ]
    },
    {
      "cell_type": "code",
      "source": [
        "# Leave-one-out cross validation\n",
        "\n",
        "from sklearn.model_selection import LeaveOneOut\n",
        "from sklearn.linear_model import LogisticRegression\n",
        "from sklearn.preprocessing import StandardScaler\n",
        "from sklearn.metrics import accuracy_score\n",
        "import numpy as np\n",
        "import pandas as pd\n",
        "\n",
        "# Load the heart disease dataset\n",
        "fileName = \"https://raw.githubusercontent.com/Nezu-life/Data_Science_For_Medicine_and_Biology/main/datasets/heart_disease.csv\"\n",
        "data = pd.read_csv(fileName)\n",
        "\n",
        "X = data.drop(\"disease\", axis=1)\n",
        "y = data[\"disease\"]\n",
        "\n",
        "# Initialize Leave-One-Out validation\n",
        "loo = LeaveOneOut()\n",
        "\n",
        "accuracies = []\n",
        "\n",
        "for train_index, test_index in loo.split(X, y):\n",
        "    # Splitting data into training and test sets\n",
        "    X_train, X_test = X.iloc[train_index], X.iloc[test_index]\n",
        "    y_train, y_test = y.iloc[train_index], y.iloc[test_index]\n",
        "\n",
        "    # Standardizing the features based on the training set\n",
        "    scaler = StandardScaler()\n",
        "    X_train_scaled = scaler.fit_transform(X_train)\n",
        "    X_test_scaled = scaler.transform(X_test)\n",
        "\n",
        "    # Training a logistic regression model\n",
        "    model = LogisticRegression()\n",
        "    model.fit(X_train_scaled, y_train)\n",
        "\n",
        "    # Predicting and evaluating the model\n",
        "    y_pred = model.predict(X_test_scaled)\n",
        "    accuracy = accuracy_score(y_test, y_pred)\n",
        "    accuracies.append(accuracy)\n",
        "\n",
        "# Calculating average accuracy and standard deviation\n",
        "average_accuracy = np.mean(accuracies)\n",
        "\n",
        "# Printing the average accuracy and standard deviation\n",
        "print(f\"Average accuracy:\", average_accuracy)\n"
      ],
      "metadata": {
        "colab": {
          "base_uri": "https://localhost:8080/"
        },
        "id": "bZ3B6lV2t-mP",
        "outputId": "28f22337-87fc-48df-b53a-afc112961536"
      },
      "execution_count": null,
      "outputs": [
        {
          "output_type": "stream",
          "name": "stdout",
          "text": [
            "Average accuracy: 0.8429268292682927\n"
          ]
        }
      ]
    },
    {
      "cell_type": "code",
      "source": [
        "# Stratified 10-Fold cross validation\n",
        "\n",
        "from sklearn.model_selection import StratifiedKFold\n",
        "from sklearn.linear_model import LogisticRegression\n",
        "from sklearn.preprocessing import StandardScaler\n",
        "from sklearn.metrics import accuracy_score\n",
        "import numpy as np\n",
        "import pandas as pd\n",
        "\n",
        "# Load the heart disease dataset\n",
        "fileName = \"https://raw.githubusercontent.com/Nezu-life/Data_Science_For_Medicine_and_Biology/main/datasets/heart_disease.csv\"\n",
        "data = pd.read_csv(fileName)\n",
        "\n",
        "X = data.drop(\"disease\", axis=1)\n",
        "y = data[\"disease\"]\n",
        "\n",
        "# Initialize 10-fold cross-validation\n",
        "skf = StratifiedKFold(n_splits=10, shuffle=True, random_state=42)\n",
        "\n",
        "accuracies = []\n",
        "\n",
        "for train_index, test_index in skf.split(X, y):\n",
        "    # Splitting data into training and test sets\n",
        "    X_train, X_test = X.iloc[train_index], X.iloc[test_index]\n",
        "    y_train, y_test = y.iloc[train_index], y.iloc[test_index]\n",
        "\n",
        "    # Standardizing the features based on the training set\n",
        "    scaler = StandardScaler()\n",
        "    X_train_scaled = scaler.fit_transform(X_train)\n",
        "    X_test_scaled = scaler.transform(X_test)\n",
        "\n",
        "    # Training a logistic regression model\n",
        "    model = LogisticRegression()\n",
        "    model.fit(X_train_scaled, y_train)\n",
        "\n",
        "    # Predicting and evaluating the model\n",
        "    y_pred = model.predict(X_test_scaled)\n",
        "    accuracy = accuracy_score(y_test, y_pred)\n",
        "    accuracies.append(accuracy)\n",
        "\n",
        "# Calculating average accuracy and standard deviation\n",
        "average_accuracy = np.mean(accuracies)\n",
        "\n",
        "# Printing the average accuracy and standard deviation\n",
        "print(f\"Average accuracy:\", average_accuracy)\n"
      ],
      "metadata": {
        "colab": {
          "base_uri": "https://localhost:8080/"
        },
        "id": "TMi5IV_nuBGe",
        "outputId": "0ac887e7-683d-4c62-c0a9-e29655983457"
      },
      "execution_count": null,
      "outputs": [
        {
          "output_type": "stream",
          "name": "stdout",
          "text": [
            "Average accuracy: 0.8399866742813631\n"
          ]
        }
      ]
    }
  ]
}