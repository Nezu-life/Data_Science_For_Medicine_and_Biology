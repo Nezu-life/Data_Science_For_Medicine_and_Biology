{
  "nbformat": 4,
  "nbformat_minor": 0,
  "metadata": {
    "colab": {
      "provenance": []
    },
    "kernelspec": {
      "name": "python3",
      "display_name": "Python 3"
    },
    "language_info": {
      "name": "python"
    }
  },
  "cells": [
    {
      "cell_type": "code",
      "execution_count": null,
      "metadata": {
        "colab": {
          "base_uri": "https://localhost:8080/"
        },
        "id": "xme7XkoSi-TC",
        "outputId": "0d38e309-ab00-4114-b5f8-b773b1172d57"
      },
      "outputs": [
        {
          "output_type": "stream",
          "name": "stdout",
          "text": [
            "Mean Systolic Blood Pressure: 130.0\n"
          ]
        }
      ],
      "source": [
        "import numpy as np\n",
        "\n",
        "blood_pressure = np.array([120, 125, 130, 135, 140])\n",
        "\n",
        "mean_blood_pressure = np.mean(blood_pressure)\n",
        "\n",
        "print(\"Mean Systolic Blood Pressure:\", mean_blood_pressure)"
      ]
    },
    {
      "cell_type": "code",
      "source": [
        "median_blood_pressure = np.median(blood_pressure)\n",
        "\n",
        "print(\"Median Systolic Blood Pressure:\", median_blood_pressure)"
      ],
      "metadata": {
        "colab": {
          "base_uri": "https://localhost:8080/"
        },
        "id": "kc4u2NkljxdW",
        "outputId": "56e79313-b522-4270-f6da-19419389c990"
      },
      "execution_count": null,
      "outputs": [
        {
          "output_type": "stream",
          "name": "stdout",
          "text": [
            "Median Systolic Blood Pressure: 130.0\n"
          ]
        }
      ]
    },
    {
      "cell_type": "code",
      "source": [
        "std_dev_blood_pressure = np.std(blood_pressure, ddof=1)\n",
        "\n",
        "print(\"Standard Deviation of Systolic Blood Pressure:\", std_dev_blood_pressure)"
      ],
      "metadata": {
        "colab": {
          "base_uri": "https://localhost:8080/"
        },
        "id": "n5PGbHUgkNiq",
        "outputId": "63a4f460-9c38-4705-de6b-7b61bf530a5e"
      },
      "execution_count": null,
      "outputs": [
        {
          "output_type": "stream",
          "name": "stdout",
          "text": [
            "Standard Deviation of Systolic Blood Pressure: 7.905694150420948\n"
          ]
        }
      ]
    },
    {
      "cell_type": "code",
      "source": [
        "sem_blood_pressure = std_dev_blood_pressure / np.sqrt(len(blood_pressure))\n",
        "\n",
        "print(\"Standard Error of Systolic Blood Pressure:\", sem_blood_pressure)"
      ],
      "metadata": {
        "id": "7BU5pldok0Wf",
        "outputId": "9b629dde-f385-40e9-f860-5088897acf5b",
        "colab": {
          "base_uri": "https://localhost:8080/"
        }
      },
      "execution_count": null,
      "outputs": [
        {
          "output_type": "stream",
          "name": "stdout",
          "text": [
            "Standard Error of Systolic Blood Pressure: 3.5355339059327373\n"
          ]
        }
      ]
    }
  ]
}