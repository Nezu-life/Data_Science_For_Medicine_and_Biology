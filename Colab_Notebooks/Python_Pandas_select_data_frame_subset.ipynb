{
  "nbformat": 4,
  "nbformat_minor": 0,
  "metadata": {
    "colab": {
      "provenance": []
    },
    "kernelspec": {
      "name": "python3",
      "display_name": "Python 3"
    },
    "language_info": {
      "name": "python"
    }
  },
  "cells": [
    {
      "cell_type": "code",
      "source": [
        "# Data Science for Medicine and Biology\n",
        "#\n",
        "# Nezu Life Sciences\n",
        "#\n",
        "# Feel free to modify, redistribute and above all,\n",
        "# create something with this code.\n",
        "#\n",
        "# Tiago Lopes, PhD\n",
        "# March 2024\n",
        "\n",
        "\n",
        "# Import the Pandas package\n",
        "# and create a small data frame\n",
        "\n",
        "import pandas as pd\n",
        "\n",
        "data = {\n",
        "    'Name': ['John Doe', 'Jane Smith', 'Alice Johnson'],\n",
        "    'Age': [28, 34, 45],\n",
        "    'Blood Type': ['A', 'B', 'O']\n",
        "}\n",
        "\n",
        "df = pd.DataFrame(data)\n",
        "\n",
        "print(df)"
      ],
      "metadata": {
        "colab": {
          "base_uri": "https://localhost:8080/"
        },
        "id": "8GtIk0-TPzOS",
        "outputId": "e59b8f23-bd05-4c6e-8c55-44f104eb6b95"
      },
      "execution_count": null,
      "outputs": [
        {
          "output_type": "stream",
          "name": "stdout",
          "text": [
            "            Name  Age Blood Type\n",
            "0       John Doe   28          A\n",
            "1     Jane Smith   34          B\n",
            "2  Alice Johnson   45          O\n"
          ]
        }
      ]
    },
    {
      "cell_type": "code",
      "source": [
        "# Import a large dataset from the Nezu Life Sciences repository\n",
        "# Print its \"shape\" (number of rows and columns)\n",
        "# and its first 5 rows.\n",
        "\n",
        "import pandas as pd\n",
        "\n",
        "URL = \"https://raw.githubusercontent.com/Nezu-life/Machine_Learning_Course_English/main/Intro_to_Python/datasets/synthetic_patient_records.csv\"\n",
        "\n",
        "patients = pd.read_csv(URL, sep=\",\")\n"
      ],
      "metadata": {
        "id": "2ooCVkAZR9B3"
      },
      "execution_count": null,
      "outputs": []
    },
    {
      "cell_type": "code",
      "source": [
        "print(patients.shape)\n"
      ],
      "metadata": {
        "colab": {
          "base_uri": "https://localhost:8080/"
        },
        "id": "hK2Ex-7LncVf",
        "outputId": "98a1332e-8922-4cd9-a575-1d05d9758174"
      },
      "execution_count": null,
      "outputs": [
        {
          "output_type": "stream",
          "name": "stdout",
          "text": [
            "(1000, 11)\n"
          ]
        }
      ]
    },
    {
      "cell_type": "code",
      "source": [
        "print(patients.head(5))\n"
      ],
      "metadata": {
        "colab": {
          "base_uri": "https://localhost:8080/"
        },
        "id": "2URG-UY6mt4r",
        "outputId": "f79d2ee1-720e-45fa-9870-076c04c2f9d6"
      },
      "execution_count": null,
      "outputs": [
        {
          "output_type": "stream",
          "name": "stdout",
          "text": [
            "  Patient ID   Age  Gender  Height  Weight Blood_Type  Cholesterol  \\\n",
            "0   PID-0001  69.0    Male   177.1   146.6         A-        220.2   \n",
            "1   PID-0002   NaN    Male   192.1   105.8         B+          NaN   \n",
            "2   PID-0003  89.0   Other   174.2    84.7         O+        136.3   \n",
            "3   PID-0004  78.0  Female   141.8   108.0        AB-        147.8   \n",
            "4   PID-0005  38.0    Male   195.9    63.9         A-        224.2   \n",
            "\n",
            "   Blood_Pressure_h  Blood_Pressure_l  Diabetes  Smoker  \n",
            "0             138.0              84.0     False   False  \n",
            "1              99.0              81.0     False   False  \n",
            "2             105.0              75.0      True    True  \n",
            "3              97.0              88.0      True   False  \n",
            "4             128.0              87.0     False   False  \n"
          ]
        }
      ]
    },
    {
      "cell_type": "code",
      "source": [
        "print(patients.tail(5))\n"
      ],
      "metadata": {
        "colab": {
          "base_uri": "https://localhost:8080/"
        },
        "id": "nkJis9sinFMj",
        "outputId": "838ff5ad-216b-4fe3-ea7f-67815acd6c23"
      },
      "execution_count": null,
      "outputs": [
        {
          "output_type": "stream",
          "name": "stdout",
          "text": [
            "    Patient ID   Age  Gender  Height  Weight Blood_Type  Cholesterol  \\\n",
            "995   PID-0996  30.0   Other   155.6   130.4         A-        194.8   \n",
            "996   PID-0997  79.0  Female   151.7   121.5         B+        209.0   \n",
            "997   PID-0998  99.0  Female   143.5     NaN         B+        216.6   \n",
            "998   PID-0999  77.0  Female   160.5    55.3         B+        221.4   \n",
            "999   PID-1000  60.0  Female   156.2    95.5        AB+        167.4   \n",
            "\n",
            "     Blood_Pressure_h  Blood_Pressure_l  Diabetes  Smoker  \n",
            "995             108.0              89.0      True    True  \n",
            "996             117.0              62.0     False   False  \n",
            "997             132.0              70.0     False   False  \n",
            "998             120.0              76.0     False   False  \n",
            "999             137.0              66.0     False    True  \n"
          ]
        }
      ]
    },
    {
      "cell_type": "code",
      "source": [
        "# Selecting only one feature of our dataset\n",
        "\n",
        "bloodTypes = patients[\"Blood_Type\"]\n",
        "\n",
        "bloodTypes = patients.Blood_Type # Same as above\n",
        "\n",
        "print(bloodTypes)\n"
      ],
      "metadata": {
        "colab": {
          "base_uri": "https://localhost:8080/"
        },
        "id": "wNR6gnQsofu3",
        "outputId": "66da4370-1797-4076-f500-0b675a7c14fe"
      },
      "execution_count": null,
      "outputs": [
        {
          "output_type": "stream",
          "name": "stdout",
          "text": [
            "0       A-\n",
            "1       B+\n",
            "2       O+\n",
            "3      AB-\n",
            "4       A-\n",
            "      ... \n",
            "995     A-\n",
            "996     B+\n",
            "997     B+\n",
            "998     B+\n",
            "999    AB+\n",
            "Name: Blood_Type, Length: 1000, dtype: object\n"
          ]
        }
      ]
    },
    {
      "cell_type": "code",
      "source": [
        "# Prints only the first row of the patients data frame\n",
        "thisPatient = patients.iloc[0]\n",
        "\n",
        "print(thisPatient)\n"
      ],
      "metadata": {
        "colab": {
          "base_uri": "https://localhost:8080/"
        },
        "id": "4O26cJ1Mrvr7",
        "outputId": "59711200-259d-41f7-fe07-747430d51523"
      },
      "execution_count": null,
      "outputs": [
        {
          "output_type": "stream",
          "name": "stdout",
          "text": [
            "Patient ID          PID-0001\n",
            "Age                     69.0\n",
            "Gender                  Male\n",
            "Height                 177.1\n",
            "Weight                 146.6\n",
            "Blood_Type                A-\n",
            "Cholesterol            220.2\n",
            "Blood_Pressure_h       138.0\n",
            "Blood_Pressure_l        84.0\n",
            "Diabetes               False\n",
            "Smoker                 False\n",
            "Name: 0, dtype: object\n"
          ]
        }
      ]
    },
    {
      "cell_type": "code",
      "source": [
        "# Prints only the 10th row of the patients data frame\n",
        "thisPatient = patients.iloc[9]\n",
        "\n",
        "print(thisPatient)\n"
      ],
      "metadata": {
        "colab": {
          "base_uri": "https://localhost:8080/"
        },
        "id": "1l9-hTHxsGcE",
        "outputId": "e321195d-11e5-4688-b92e-c0448d178bf9"
      },
      "execution_count": null,
      "outputs": [
        {
          "output_type": "stream",
          "name": "stdout",
          "text": [
            "Patient ID          PID-0010\n",
            "Age                     39.0\n",
            "Gender                 Other\n",
            "Height                   NaN\n",
            "Weight                 149.4\n",
            "Blood_Type                B-\n",
            "Cholesterol            188.9\n",
            "Blood_Pressure_h       115.0\n",
            "Blood_Pressure_l        85.0\n",
            "Diabetes                True\n",
            "Smoker                 False\n",
            "Name: 9, dtype: object\n"
          ]
        }
      ]
    },
    {
      "cell_type": "code",
      "source": [
        "# Prints only the rows 3-5 of the patients data frame\n",
        "thisPatient = patients.iloc[0:5]\n",
        "\n",
        "print(thisPatient)\n"
      ],
      "metadata": {
        "colab": {
          "base_uri": "https://localhost:8080/"
        },
        "id": "Roda1AFvsTJ0",
        "outputId": "4ed35620-3fc0-4a83-8369-758d9421b640"
      },
      "execution_count": null,
      "outputs": [
        {
          "output_type": "stream",
          "name": "stdout",
          "text": [
            "  Patient_ID   Age  Gender Blood_Type  Cholesterol  Blood_Pressure_h  \\\n",
            "0   PID-0001  69.0    Male         A-        220.2             138.0   \n",
            "1   PID-0002   NaN    Male         B+          NaN              99.0   \n",
            "2   PID-0004  78.0  Female        AB-        147.8              97.0   \n",
            "3   PID-0005  38.0    Male         A-        224.2             128.0   \n",
            "4   PID-0006  92.0   Other         O-        231.2               NaN   \n",
            "\n",
            "   Blood_Pressure_l  Diabetes  Smoker        BMI  \n",
            "0              84.0     False   False  46.740876  \n",
            "1              81.0     False   False  28.670214  \n",
            "2              88.0      True   False  53.711996  \n",
            "3              87.0     False   False  16.650680  \n",
            "4               NaN      True   False  28.687812  \n"
          ]
        }
      ]
    },
    {
      "cell_type": "code",
      "source": [
        "# Prints rows 0-10 of the patients data frame\n",
        "thisPatient = patients.iloc[0:9]\n",
        "\n",
        "print(thisPatient)"
      ],
      "metadata": {
        "colab": {
          "base_uri": "https://localhost:8080/"
        },
        "id": "SYQIy1nrso60",
        "outputId": "3481c1cf-ba0d-4c09-f56f-0d7f9c3e0601"
      },
      "execution_count": null,
      "outputs": [
        {
          "output_type": "stream",
          "name": "stdout",
          "text": [
            "  Patient_ID   Age  Gender Blood_Type  Cholesterol  Blood_Pressure_h  \\\n",
            "0   PID-0001  69.0    Male         A-        220.2             138.0   \n",
            "1   PID-0002   NaN    Male         B+          NaN              99.0   \n",
            "2   PID-0004  78.0  Female        AB-        147.8              97.0   \n",
            "3   PID-0005  38.0    Male         A-        224.2             128.0   \n",
            "4   PID-0006  92.0   Other         O-        231.2               NaN   \n",
            "5   PID-0010  39.0   Other         B-        188.9             115.0   \n",
            "6   PID-0011  70.0    Male        AB+        167.1             103.0   \n",
            "7   PID-0015  19.0   Other         O+        214.5              93.0   \n",
            "8   PID-0017  77.0    Male         A+        124.8              91.0   \n",
            "\n",
            "   Blood_Pressure_l  Diabetes  Smoker        BMI  \n",
            "0              84.0     False   False  46.740876  \n",
            "1              81.0     False   False  28.670214  \n",
            "2              88.0      True   False  53.711996  \n",
            "3              87.0     False   False  16.650680  \n",
            "4               NaN      True   False  28.687812  \n",
            "5              85.0      True   False        NaN  \n",
            "6              66.0      True   False  43.021734  \n",
            "7              88.0     False   False  34.328400  \n",
            "8              73.0     False   False  19.942754  \n"
          ]
        }
      ]
    },
    {
      "cell_type": "code",
      "source": [
        "# Prints rows 0-5 of the Height column of the patients data frame\n",
        "thisPatient = patients.iloc[:5, 3]\n",
        "\n",
        "print(thisPatient)\n"
      ],
      "metadata": {
        "colab": {
          "base_uri": "https://localhost:8080/"
        },
        "id": "h3y1YCWrs0dC",
        "outputId": "32065140-2264-4a70-f61d-4d4c95e411f7"
      },
      "execution_count": null,
      "outputs": [
        {
          "output_type": "stream",
          "name": "stdout",
          "text": [
            "0    177.1\n",
            "1    192.1\n",
            "2    174.2\n",
            "3    141.8\n",
            "4    195.9\n",
            "Name: Height, dtype: float64\n"
          ]
        }
      ]
    },
    {
      "cell_type": "code",
      "source": [
        "# Selects only some columns and rows from a data frame\n",
        "miniDF = patients.loc[:100, [\"Patient ID\", \"Age\", \"Height\", \"Weight\"]]\n",
        "\n",
        "print(miniDF.head(5))\n"
      ],
      "metadata": {
        "colab": {
          "base_uri": "https://localhost:8080/"
        },
        "id": "wITRXMUItLLY",
        "outputId": "1f009792-261d-424f-ea28-452f3337d397"
      },
      "execution_count": null,
      "outputs": [
        {
          "output_type": "stream",
          "name": "stdout",
          "text": [
            "  Patient ID   Age  Height  Weight\n",
            "0   PID-0001  69.0   177.1   146.6\n",
            "1   PID-0002   NaN   192.1   105.8\n",
            "2   PID-0003  89.0   174.2    84.7\n",
            "3   PID-0004  78.0   141.8   108.0\n",
            "4   PID-0005  38.0   195.9    63.9\n"
          ]
        }
      ]
    },
    {
      "cell_type": "code",
      "source": [
        "# Creates a data frame with older female patients\n",
        "\n",
        "olderFemales = patients.loc[(patients[\"Age\"] > 80) & (patients[\"Gender\"] == \"Female\")]\n",
        "\n",
        "print(olderFemales)\n"
      ],
      "metadata": {
        "colab": {
          "base_uri": "https://localhost:8080/"
        },
        "id": "rM5obsuPtsYP",
        "outputId": "1478fada-642f-4757-e551-b08e68340b6c"
      },
      "execution_count": null,
      "outputs": [
        {
          "output_type": "stream",
          "name": "stdout",
          "text": [
            "    Patient ID   Age  Gender  Height  Weight Blood_Type  Cholesterol  \\\n",
            "6     PID-0007  92.0  Female   180.6   112.6         O+        170.4   \n",
            "39    PID-0040  90.0  Female   154.3    78.6         A-        130.0   \n",
            "49    PID-0050  88.0  Female   171.1   132.8         B-        188.6   \n",
            "68    PID-0069  91.0  Female     NaN   122.3         O-        147.6   \n",
            "77    PID-0078  97.0  Female   188.2    50.9         A-        208.6   \n",
            "..         ...   ...     ...     ...     ...        ...          ...   \n",
            "958   PID-0959  83.0  Female   167.2    54.0         A+          NaN   \n",
            "961   PID-0962  91.0  Female   169.1    52.2         A-        184.1   \n",
            "975   PID-0976  93.0  Female   147.0   106.3         O-        175.8   \n",
            "990        NaN  89.0  Female   172.5   102.8        AB-        172.0   \n",
            "997   PID-0998  99.0  Female   143.5     NaN         B+        216.6   \n",
            "\n",
            "     Blood_Pressure_h  Blood_Pressure_l  Diabetes  Smoker  \n",
            "6               109.0              75.0      True    True  \n",
            "39              135.0              65.0     False    True  \n",
            "49              137.0              66.0     False    True  \n",
            "68              130.0              69.0     False   False  \n",
            "77               93.0              77.0     False    True  \n",
            "..                ...               ...       ...     ...  \n",
            "958             105.0              66.0     False    True  \n",
            "961             101.0              62.0     False    True  \n",
            "975             123.0              74.0      True    True  \n",
            "990             107.0              64.0      True    True  \n",
            "997             132.0              70.0     False   False  \n",
            "\n",
            "[67 rows x 11 columns]\n"
          ]
        }
      ]
    },
    {
      "cell_type": "code",
      "source": [
        "# Selects patients who have O+ or O- blood types\n",
        "\n",
        "o_type_only = patients.loc[patients[\"Blood_Type\"].isin([\"O+\", \"O-\"])]\n",
        "\n",
        "print(o_type_only)\n"
      ],
      "metadata": {
        "colab": {
          "base_uri": "https://localhost:8080/"
        },
        "id": "w3RwF2tAvDNJ",
        "outputId": "c593aba8-3088-4de7-eeec-44419475dbc8"
      },
      "execution_count": null,
      "outputs": [
        {
          "output_type": "stream",
          "name": "stdout",
          "text": [
            "    Patient ID   Age  Gender  Height  Weight Blood_Type  Cholesterol  \\\n",
            "2     PID-0003  89.0   Other   174.2    84.7         O+        136.3   \n",
            "5     PID-0006  92.0   Other   181.4    94.4         O-        231.2   \n",
            "6     PID-0007  92.0  Female   180.6   112.6         O+        170.4   \n",
            "11    PID-0012  19.0  Female   146.4   112.3         O+        123.4   \n",
            "14    PID-0015  19.0   Other   142.9    70.1         O+        214.5   \n",
            "..         ...   ...     ...     ...     ...        ...          ...   \n",
            "976   PID-0977  62.0    Male   197.4   112.5         O-        147.2   \n",
            "977   PID-0978  19.0  Female   158.8   136.4         O+        209.3   \n",
            "986   PID-0987  28.0    Male   160.4   109.7         O+        188.3   \n",
            "987   PID-0988  91.0   Other   172.5   142.8         O+        211.5   \n",
            "993   PID-0994  63.0   Other   166.4   148.1         O-        215.3   \n",
            "\n",
            "     Blood_Pressure_h  Blood_Pressure_l  Diabetes  Smoker  \n",
            "2               105.0              75.0      True    True  \n",
            "5                 NaN               NaN      True   False  \n",
            "6               109.0              75.0      True    True  \n",
            "11              122.0              85.0      True    True  \n",
            "14               93.0              88.0     False   False  \n",
            "..                ...               ...       ...     ...  \n",
            "976             104.0              72.0     False   False  \n",
            "977             115.0              84.0     False    True  \n",
            "986             134.0              81.0      True   False  \n",
            "987             116.0              84.0     False    True  \n",
            "993             109.0              81.0      True   False  \n",
            "\n",
            "[285 rows x 11 columns]\n"
          ]
        }
      ]
    },
    {
      "cell_type": "code",
      "source": [
        "# Renames one of the columns of the data frame\n",
        "\n",
        "patients = patients.rename(columns={\"Patient ID\": \"Patient_ID\"})\n",
        "\n",
        "print(patients.head(5))\n"
      ],
      "metadata": {
        "colab": {
          "base_uri": "https://localhost:8080/"
        },
        "id": "NGH7yfk3wAQD",
        "outputId": "c0e11b90-0f9a-4a7c-cd57-e6daccd23ae9"
      },
      "execution_count": null,
      "outputs": [
        {
          "output_type": "stream",
          "name": "stdout",
          "text": [
            "  Patient_ID   Age  Gender  Height  Weight Blood_Type  Cholesterol  \\\n",
            "0   PID-0001  69.0    Male   177.1   146.6         A-        220.2   \n",
            "1   PID-0002   NaN    Male   192.1   105.8         B+          NaN   \n",
            "2   PID-0003  89.0   Other   174.2    84.7         O+        136.3   \n",
            "3   PID-0004  78.0  Female   141.8   108.0        AB-        147.8   \n",
            "4   PID-0005  38.0    Male   195.9    63.9         A-        224.2   \n",
            "\n",
            "   Blood_Pressure_h  Blood_Pressure_l  Diabetes  Smoker  \n",
            "0             138.0              84.0     False   False  \n",
            "1              99.0              81.0     False   False  \n",
            "2             105.0              75.0      True    True  \n",
            "3              97.0              88.0      True   False  \n",
            "4             128.0              87.0     False   False  \n"
          ]
        }
      ]
    },
    {
      "cell_type": "code",
      "source": [
        "# Adds a new column (BMI) to the data frame\n",
        "\n",
        "patients[\"Height\"] = patients[\"Height\"] / 100\n",
        "\n",
        "patients[\"BMI\"] = patients[\"Weight\"] / patients[\"Height\"] ** 2\n",
        "\n",
        "print(patients.head(5))\n"
      ],
      "metadata": {
        "colab": {
          "base_uri": "https://localhost:8080/"
        },
        "id": "K47-ZvM-xDNB",
        "outputId": "c0d43482-5a10-4d94-babd-1522bf952630"
      },
      "execution_count": null,
      "outputs": [
        {
          "output_type": "stream",
          "name": "stdout",
          "text": [
            "  Patient_ID   Age  Gender  Height  Weight Blood_Type  Cholesterol  \\\n",
            "0   PID-0001  69.0    Male   1.771   146.6         A-        220.2   \n",
            "1   PID-0002   NaN    Male   1.921   105.8         B+          NaN   \n",
            "2   PID-0003  89.0   Other   1.742    84.7         O+        136.3   \n",
            "3   PID-0004  78.0  Female   1.418   108.0        AB-        147.8   \n",
            "4   PID-0005  38.0    Male   1.959    63.9         A-        224.2   \n",
            "\n",
            "   Blood_Pressure_h  Blood_Pressure_l  Diabetes  Smoker        BMI  \n",
            "0             138.0              84.0     False   False  46.740876  \n",
            "1              99.0              81.0     False   False  28.670214  \n",
            "2             105.0              75.0      True    True  27.911753  \n",
            "3              97.0              88.0      True   False  53.711996  \n",
            "4             128.0              87.0     False   False  16.650680  \n"
          ]
        }
      ]
    },
    {
      "cell_type": "code",
      "source": [
        "# Removes a column from the data frame\n",
        "\n",
        "patients = patients.drop(\"Height\", axis=1)\n",
        "\n",
        "print(patients.head(5))\n"
      ],
      "metadata": {
        "colab": {
          "base_uri": "https://localhost:8080/"
        },
        "id": "I3a3XpDhylCA",
        "outputId": "eb84b897-0b9d-424c-fb97-ac0e80685dac"
      },
      "execution_count": null,
      "outputs": [
        {
          "output_type": "stream",
          "name": "stdout",
          "text": [
            "  Patient_ID   Age  Gender  Weight Blood_Type  Cholesterol  Blood_Pressure_h  \\\n",
            "0   PID-0001  69.0    Male   146.6         A-        220.2             138.0   \n",
            "1   PID-0002   NaN    Male   105.8         B+          NaN              99.0   \n",
            "2   PID-0003  89.0   Other    84.7         O+        136.3             105.0   \n",
            "3   PID-0004  78.0  Female   108.0        AB-        147.8              97.0   \n",
            "4   PID-0005  38.0    Male    63.9         A-        224.2             128.0   \n",
            "\n",
            "   Blood_Pressure_l  Diabetes  Smoker        BMI  \n",
            "0              84.0     False   False  46.740876  \n",
            "1              81.0     False   False  28.670214  \n",
            "2              75.0      True    True  27.911753  \n",
            "3              88.0      True   False  53.711996  \n",
            "4              87.0     False   False  16.650680  \n"
          ]
        }
      ]
    },
    {
      "cell_type": "code",
      "source": [
        "# Remove all smokers from the data frame and reset indexes\n",
        "\n",
        "patients = patients[patients['Smoker'] != True]\n",
        "\n",
        "patients = patients.reset_index(drop=True)\n",
        "\n",
        "print(patients)\n"
      ],
      "metadata": {
        "colab": {
          "base_uri": "https://localhost:8080/"
        },
        "id": "PRPlmeOCzoJX",
        "outputId": "f4073f3f-98fd-497b-eaa7-33d42ede4e8c"
      },
      "execution_count": null,
      "outputs": [
        {
          "output_type": "stream",
          "name": "stdout",
          "text": [
            "    Patient_ID   Age  Gender  Weight Blood_Type  Cholesterol  \\\n",
            "0     PID-0001  69.0    Male   146.6         A-        220.2   \n",
            "1     PID-0002   NaN    Male   105.8         B+          NaN   \n",
            "2     PID-0004  78.0  Female   108.0        AB-        147.8   \n",
            "3     PID-0005  38.0    Male    63.9         A-        224.2   \n",
            "4     PID-0006  92.0   Other    94.4         O-        231.2   \n",
            "..         ...   ...     ...     ...        ...          ...   \n",
            "501   PID-0994  63.0   Other   148.1         O-        215.3   \n",
            "502   PID-0995  29.0  Female   115.0         A-        232.9   \n",
            "503   PID-0997  79.0  Female   121.5         B+        209.0   \n",
            "504   PID-0998  99.0  Female     NaN         B+        216.6   \n",
            "505   PID-0999  77.0  Female    55.3         B+        221.4   \n",
            "\n",
            "     Blood_Pressure_h  Blood_Pressure_l  Diabetes  Smoker        BMI  \n",
            "0               138.0              84.0     False   False  46.740876  \n",
            "1                99.0              81.0     False   False  28.670214  \n",
            "2                97.0              88.0      True   False  53.711996  \n",
            "3               128.0              87.0     False   False  16.650680  \n",
            "4                 NaN               NaN      True   False  28.687812  \n",
            "..                ...               ...       ...     ...        ...  \n",
            "501             109.0              81.0      True   False  53.487022  \n",
            "502             131.0              81.0     False   False  46.008079  \n",
            "503             117.0              62.0     False   False  52.796498  \n",
            "504             132.0              70.0     False   False        NaN  \n",
            "505             120.0              76.0     False   False  21.467183  \n",
            "\n",
            "[506 rows x 11 columns]\n"
          ]
        }
      ]
    },
    {
      "cell_type": "code",
      "source": [
        "# Lists the number of NaNs (not a numbers) in the data frame\n",
        "\n",
        "print(patients.isna().sum())\n"
      ],
      "metadata": {
        "colab": {
          "base_uri": "https://localhost:8080/"
        },
        "id": "06x3kip-0rMp",
        "outputId": "abb62c12-8e73-4608-84dc-58e82ccf79e4"
      },
      "execution_count": null,
      "outputs": [
        {
          "output_type": "stream",
          "name": "stdout",
          "text": [
            "Patient_ID          18\n",
            "Age                 12\n",
            "Gender              15\n",
            "Weight               7\n",
            "Blood_Type           9\n",
            "Cholesterol         10\n",
            "Blood_Pressure_h    13\n",
            "Blood_Pressure_l    13\n",
            "Diabetes             0\n",
            "Smoker               0\n",
            "BMI                 23\n",
            "dtype: int64\n"
          ]
        }
      ]
    },
    {
      "cell_type": "code",
      "source": [
        "# Removes all rows that have NaNs in the Patient_ID column\n",
        "\n",
        "patients = patients.dropna(subset=['Patient_ID'])\n",
        "\n",
        "patients = patients.reset_index(drop=True)\n",
        "\n",
        "print(patients)\n"
      ],
      "metadata": {
        "colab": {
          "base_uri": "https://localhost:8080/"
        },
        "id": "KLGrs7Ze1iBN",
        "outputId": "c514d042-504d-4941-8801-579d3371b58c"
      },
      "execution_count": null,
      "outputs": [
        {
          "output_type": "stream",
          "name": "stdout",
          "text": [
            "    Patient_ID   Age  Gender  Weight Blood_Type  Cholesterol  \\\n",
            "0     PID-0001  69.0    Male   146.6         A-        220.2   \n",
            "1     PID-0002   NaN    Male   105.8         B+          NaN   \n",
            "2     PID-0004  78.0  Female   108.0        AB-        147.8   \n",
            "3     PID-0005  38.0    Male    63.9         A-        224.2   \n",
            "4     PID-0006  92.0   Other    94.4         O-        231.2   \n",
            "..         ...   ...     ...     ...        ...          ...   \n",
            "483   PID-0994  63.0   Other   148.1         O-        215.3   \n",
            "484   PID-0995  29.0  Female   115.0         A-        232.9   \n",
            "485   PID-0997  79.0  Female   121.5         B+        209.0   \n",
            "486   PID-0998  99.0  Female     NaN         B+        216.6   \n",
            "487   PID-0999  77.0  Female    55.3         B+        221.4   \n",
            "\n",
            "     Blood_Pressure_h  Blood_Pressure_l  Diabetes  Smoker        BMI  \n",
            "0               138.0              84.0     False   False  46.740876  \n",
            "1                99.0              81.0     False   False  28.670214  \n",
            "2                97.0              88.0      True   False  53.711996  \n",
            "3               128.0              87.0     False   False  16.650680  \n",
            "4                 NaN               NaN      True   False  28.687812  \n",
            "..                ...               ...       ...     ...        ...  \n",
            "483             109.0              81.0      True   False  53.487022  \n",
            "484             131.0              81.0     False   False  46.008079  \n",
            "485             117.0              62.0     False   False  52.796498  \n",
            "486             132.0              70.0     False   False        NaN  \n",
            "487             120.0              76.0     False   False  21.467183  \n",
            "\n",
            "[488 rows x 11 columns]\n"
          ]
        }
      ]
    },
    {
      "cell_type": "code",
      "source": [
        "# Reads and concatenates two data frames\n",
        "URL_1 = \"https://raw.githubusercontent.com/Nezu-life/Machine_Learning_Course_English/main/Intro_to_Python/datasets/synthetic_patient_records.csv\"\n",
        "URL_2 = \"https://raw.githubusercontent.com/Nezu-life/Machine_Learning_Course_English/main/Intro_to_Python/datasets/synthetic_patient_records_b.csv\"\n",
        "\n",
        "patients_1 = pd.read_csv(URL_1, sep=\",\")\n",
        "patients_2 = pd.read_csv(URL_2, sep=\",\")\n",
        "\n",
        "patients_final = pd.concat([patients_1, patients_2])\n",
        "\n",
        "patients_final = patients_final.reset_index(drop=True)\n",
        "\n",
        "print(patients_final.shape)\n",
        "\n",
        "print(patients_final.head(5))"
      ],
      "metadata": {
        "colab": {
          "base_uri": "https://localhost:8080/"
        },
        "id": "ePo9dnZ04Akq",
        "outputId": "46efa50d-c81f-4467-ceb3-e70b8b5dba50"
      },
      "execution_count": null,
      "outputs": [
        {
          "output_type": "stream",
          "name": "stdout",
          "text": [
            "(2000, 12)\n",
            "  Patient ID   Age  Gender  Height  Weight Blood_Type  Cholesterol  \\\n",
            "0   PID-0001  69.0    Male   177.1   146.6         A-        220.2   \n",
            "1   PID-0002   NaN    Male   192.1   105.8         B+          NaN   \n",
            "2   PID-0003  89.0   Other   174.2    84.7         O+        136.3   \n",
            "3   PID-0004  78.0  Female   141.8   108.0        AB-        147.8   \n",
            "4   PID-0005  38.0    Male   195.9    63.9         A-        224.2   \n",
            "\n",
            "   Blood_Pressure_h  Blood_Pressure_l  Diabetes  Smoker Blood_Pressure  \n",
            "0             138.0              84.0     False   False            NaN  \n",
            "1              99.0              81.0     False   False            NaN  \n",
            "2             105.0              75.0      True    True            NaN  \n",
            "3              97.0              88.0      True   False            NaN  \n",
            "4             128.0              87.0     False   False            NaN  \n"
          ]
        }
      ]
    },
    {
      "cell_type": "code",
      "source": [
        "# Question of lesson\n",
        "patients = patients.drop(\"Weight\", axis=1)\n",
        "\n",
        "print(patients.head(5))\n"
      ],
      "metadata": {
        "colab": {
          "base_uri": "https://localhost:8080/"
        },
        "id": "sKUBloDm6yaC",
        "outputId": "6046b508-0090-4f6d-dad2-d3bc51b82dc0"
      },
      "execution_count": null,
      "outputs": [
        {
          "output_type": "stream",
          "name": "stdout",
          "text": [
            "  Patient_ID   Age  Gender Blood_Type  Cholesterol  Blood_Pressure_h  \\\n",
            "0   PID-0001  69.0    Male         A-        220.2             138.0   \n",
            "1   PID-0002   NaN    Male         B+          NaN              99.0   \n",
            "2   PID-0004  78.0  Female        AB-        147.8              97.0   \n",
            "3   PID-0005  38.0    Male         A-        224.2             128.0   \n",
            "4   PID-0006  92.0   Other         O-        231.2               NaN   \n",
            "\n",
            "   Blood_Pressure_l  Diabetes  Smoker        BMI  \n",
            "0              84.0     False   False  46.740876  \n",
            "1              81.0     False   False  28.670214  \n",
            "2              88.0      True   False  53.711996  \n",
            "3              87.0     False   False  16.650680  \n",
            "4               NaN      True   False  28.687812  \n"
          ]
        }
      ]
    }
  ]
}