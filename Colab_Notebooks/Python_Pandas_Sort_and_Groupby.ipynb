{
  "nbformat": 4,
  "nbformat_minor": 0,
  "metadata": {
    "colab": {
      "provenance": []
    },
    "kernelspec": {
      "name": "python3",
      "display_name": "Python 3"
    },
    "language_info": {
      "name": "python"
    }
  },
  "cells": [
    {
      "cell_type": "code",
      "execution_count": null,
      "metadata": {
        "colab": {
          "base_uri": "https://localhost:8080/"
        },
        "id": "bApa1a03jRgU",
        "outputId": "15eafe55-b1c1-4618-b3e8-6d0300ab6413"
      },
      "outputs": [
        {
          "output_type": "stream",
          "name": "stdout",
          "text": [
            "  Patient ID   Age  Gender  Height  Weight Blood_Type  Cholesterol  \\\n",
            "0   PID-0001  69.0    Male   177.1   146.6         A-        220.2   \n",
            "1   PID-0002   NaN    Male   192.1   105.8         B+          NaN   \n",
            "2   PID-0003  89.0   Other   174.2    84.7         O+        136.3   \n",
            "3   PID-0004  78.0  Female   141.8   108.0        AB-        147.8   \n",
            "4   PID-0005  38.0    Male   195.9    63.9         A-        224.2   \n",
            "\n",
            "   Blood_Pressure_h  Blood_Pressure_l  Diabetes  Smoker  \n",
            "0             138.0              84.0     False   False  \n",
            "1              99.0              81.0     False   False  \n",
            "2             105.0              75.0      True    True  \n",
            "3              97.0              88.0      True   False  \n",
            "4             128.0              87.0     False   False  \n"
          ]
        }
      ],
      "source": [
        "# Data Science for Medicine and Biology\n",
        "#\n",
        "# Nezu Life Sciences\n",
        "#\n",
        "# Feel free to modify, redistribute and above all,\n",
        "# create something with this code.\n",
        "#\n",
        "# Tiago Lopes, PhD\n",
        "# March 2024\n",
        "\n",
        "# Import a large dataset from the Nezu Life Sciences repository\n",
        "# Print its \"shape\" (number of rows and columns)\n",
        "# and its first 5 rows.\n",
        "\n",
        "import pandas as pd\n",
        "\n",
        "URL = \"https://raw.githubusercontent.com/Nezu-life/Machine_Learning_Course_English/main/Intro_to_Python/datasets/synthetic_patient_records.csv\"\n",
        "\n",
        "patients = pd.read_csv(URL, sep=\",\")\n",
        "\n",
        "print(patients.head(5))\n"
      ]
    },
    {
      "cell_type": "code",
      "source": [
        "# Group by Gender, then get the max weight values\n",
        "\n",
        "print(patients.groupby([\"Gender\"]).Weight.max())"
      ],
      "metadata": {
        "colab": {
          "base_uri": "https://localhost:8080/"
        },
        "id": "o5Z_-6OvjdkS",
        "outputId": "6d6f90d3-5b92-4193-a82c-4490f36e428d"
      },
      "execution_count": null,
      "outputs": [
        {
          "output_type": "stream",
          "name": "stdout",
          "text": [
            "Gender\n",
            "Female    149.8\n",
            "Male      149.9\n",
            "Other     149.4\n",
            "Name: Weight, dtype: float64\n"
          ]
        }
      ]
    },
    {
      "cell_type": "code",
      "source": [
        "# Group by Blood_Type, then get the mean weight values\n",
        "\n",
        "print(patients.groupby([\"Blood_Type\"]).Weight.mean())"
      ],
      "metadata": {
        "colab": {
          "base_uri": "https://localhost:8080/"
        },
        "id": "PnZylSgIlAHF",
        "outputId": "cc3c548c-71c6-4ec4-8b65-98559d80c433"
      },
      "execution_count": null,
      "outputs": [
        {
          "output_type": "stream",
          "name": "stdout",
          "text": [
            "Blood_Type\n",
            "A+     149.8\n",
            "A-     147.9\n",
            "AB+    148.5\n",
            "AB-    149.8\n",
            "B+     149.6\n",
            "B-     149.9\n",
            "O+     148.1\n",
            "O-     148.1\n",
            "Name: Weight, dtype: float64\n"
          ]
        }
      ]
    },
    {
      "cell_type": "code",
      "source": [
        "# Group by Blood_Type and Gender, then get the mean weight values\n",
        "\n",
        "print(patients.groupby([\"Gender\", \"Blood_Type\"]).Weight.mean())"
      ],
      "metadata": {
        "colab": {
          "base_uri": "https://localhost:8080/"
        },
        "id": "-yHZ_vgNlGkh",
        "outputId": "f28fbb5a-4f28-42a1-994e-3ce419604965"
      },
      "execution_count": null,
      "outputs": [
        {
          "output_type": "stream",
          "name": "stdout",
          "text": [
            "Gender  Blood_Type\n",
            "Female  A+            109.524444\n",
            "        A-            103.883333\n",
            "        AB+            96.589744\n",
            "        AB-           108.506977\n",
            "        B+            104.064103\n",
            "        B-             97.834483\n",
            "        O+            101.183333\n",
            "        O-             97.419565\n",
            "Male    A+             89.861765\n",
            "        A-             94.711111\n",
            "        AB+           108.038235\n",
            "        AB-            94.100000\n",
            "        B+            102.482857\n",
            "        B-             95.390476\n",
            "        O+            106.136364\n",
            "        O-            100.478431\n",
            "Other   A+             97.319355\n",
            "        A-            105.244737\n",
            "        AB+            99.071429\n",
            "        AB-           102.797561\n",
            "        B+             98.362500\n",
            "        B-             95.875758\n",
            "        O+             95.831111\n",
            "        O-             93.752083\n",
            "Name: Weight, dtype: float64\n"
          ]
        }
      ]
    },
    {
      "cell_type": "code",
      "source": [
        "# Sort dataset by the Age feature\n",
        "\n",
        "print(patients.sort_values(by=\"Age\"))"
      ],
      "metadata": {
        "colab": {
          "base_uri": "https://localhost:8080/"
        },
        "id": "EGCvXK3nlYQa",
        "outputId": "48501275-a31a-44cd-b39f-928577c5e574"
      },
      "execution_count": null,
      "outputs": [
        {
          "output_type": "stream",
          "name": "stdout",
          "text": [
            "    Patient ID   Age  Gender  Height  Weight Blood_Type  Cholesterol  \\\n",
            "859   PID-0860  18.0   Other   170.4   122.3        NaN        140.3   \n",
            "663   PID-0664  18.0   Other   179.3    69.9         O-        149.8   \n",
            "592   PID-0593  18.0    Male   146.9    90.4         A-        154.0   \n",
            "154   PID-0155  18.0   Other   171.1   101.1         O-        199.7   \n",
            "900   PID-0901  18.0    Male   194.8    92.5         B-        165.8   \n",
            "..         ...   ...     ...     ...     ...        ...          ...   \n",
            "742   PID-0743   NaN  Female   173.6    82.7         O+        182.5   \n",
            "803   PID-0804   NaN   Other   192.7    83.7         O+        223.4   \n",
            "838   PID-0839   NaN  Female   151.8    70.3         O+          NaN   \n",
            "924   PID-0925   NaN   Other   156.5   127.8         A+        197.1   \n",
            "963   PID-0964   NaN    Male   170.3   128.4        AB+        139.9   \n",
            "\n",
            "     Blood_Pressure_h  Blood_Pressure_l  Diabetes  Smoker  \n",
            "859             116.0              69.0      True   False  \n",
            "663             107.0              81.0      True    True  \n",
            "592              97.0              82.0      True    True  \n",
            "154             115.0              67.0     False    True  \n",
            "900             119.0              64.0     False   False  \n",
            "..                ...               ...       ...     ...  \n",
            "742             132.0              84.0      True    True  \n",
            "803              99.0              76.0      True   False  \n",
            "838             111.0              63.0      True    True  \n",
            "924             130.0              69.0     False    True  \n",
            "963             139.0              70.0     False   False  \n",
            "\n",
            "[1000 rows x 11 columns]\n"
          ]
        }
      ]
    },
    {
      "cell_type": "code",
      "source": [
        "# Sort the dataset by Age and Cholesterol\n",
        "\n",
        "print(patients.sort_values(by=[\"Age\", \"Cholesterol\"]))"
      ],
      "metadata": {
        "colab": {
          "base_uri": "https://localhost:8080/"
        },
        "id": "eO1UqZ0pltJa",
        "outputId": "0e952870-8307-47d9-b216-8973085e3789"
      },
      "execution_count": null,
      "outputs": [
        {
          "output_type": "stream",
          "name": "stdout",
          "text": [
            "    Patient ID   Age  Gender  Height  Weight Blood_Type  Cholesterol  \\\n",
            "233   PID-0234  18.0    Male   148.0    83.7        NaN        136.0   \n",
            "859   PID-0860  18.0   Other   170.4   122.3        NaN        140.3   \n",
            "646   PID-0647  18.0   Other   178.1    60.2         B-        147.9   \n",
            "663   PID-0664  18.0   Other   179.3    69.9         O-        149.8   \n",
            "749   PID-0750  18.0    Male   198.6   105.3        AB-        150.0   \n",
            "..         ...   ...     ...     ...     ...        ...          ...   \n",
            "338        NaN   NaN  Female   171.1   149.5         A+        216.4   \n",
            "803   PID-0804   NaN   Other   192.7    83.7         O+        223.4   \n",
            "684   PID-0685   NaN  Female   193.4   111.7         A+        234.3   \n",
            "1     PID-0002   NaN    Male   192.1   105.8         B+          NaN   \n",
            "838   PID-0839   NaN  Female   151.8    70.3         O+          NaN   \n",
            "\n",
            "     Blood_Pressure_h  Blood_Pressure_l  Diabetes  Smoker  \n",
            "233             124.0              73.0      True    True  \n",
            "859             116.0              69.0      True   False  \n",
            "646              96.0              63.0     False   False  \n",
            "663             107.0              81.0      True    True  \n",
            "749              95.0              70.0      True    True  \n",
            "..                ...               ...       ...     ...  \n",
            "338             128.0              77.0      True    True  \n",
            "803              99.0              76.0      True   False  \n",
            "684              96.0              73.0      True   False  \n",
            "1                99.0              81.0     False   False  \n",
            "838             111.0              63.0      True    True  \n",
            "\n",
            "[1000 rows x 11 columns]\n"
          ]
        }
      ]
    },
    {
      "cell_type": "code",
      "source": [
        "# Sort the dataset by Age and Cholesterol. Decreasing order.\n",
        "\n",
        "print(patients.sort_values(by=[\"Age\", \"Cholesterol\"], ascending=False))"
      ],
      "metadata": {
        "colab": {
          "base_uri": "https://localhost:8080/"
        },
        "id": "KhZsnphpl4cZ",
        "outputId": "5226abdb-9898-4bf9-ca2d-675797ffd19c"
      },
      "execution_count": null,
      "outputs": [
        {
          "output_type": "stream",
          "name": "stdout",
          "text": [
            "    Patient ID   Age  Gender  Height  Weight Blood_Type  Cholesterol  \\\n",
            "997   PID-0998  99.0  Female   143.5     NaN         B+        216.6   \n",
            "255   PID-0256  99.0    Male   178.4    62.0         A+        190.3   \n",
            "221   PID-0222  99.0    Male   192.1   121.3         O+        173.3   \n",
            "743   PID-0744  99.0    Male   146.7    85.4         A+        172.9   \n",
            "625   PID-0626  99.0    Male     NaN   144.7        AB+        169.3   \n",
            "..         ...   ...     ...     ...     ...        ...          ...   \n",
            "601   PID-0602   NaN   Other   149.9     NaN         B-        138.5   \n",
            "216   PID-0217   NaN   Other   195.8   115.2         O+        131.4   \n",
            "191   PID-0192   NaN   Other   171.3   128.2        AB-        131.3   \n",
            "1     PID-0002   NaN    Male   192.1   105.8         B+          NaN   \n",
            "838   PID-0839   NaN  Female   151.8    70.3         O+          NaN   \n",
            "\n",
            "     Blood_Pressure_h  Blood_Pressure_l  Diabetes  Smoker  \n",
            "997             132.0              70.0     False   False  \n",
            "255              92.0              81.0     False   False  \n",
            "221             123.0              68.0     False    True  \n",
            "743             123.0              64.0      True   False  \n",
            "625             105.0              86.0      True   False  \n",
            "..                ...               ...       ...     ...  \n",
            "601             131.0              79.0     False   False  \n",
            "216             123.0              63.0     False   False  \n",
            "191             115.0              64.0     False    True  \n",
            "1                99.0              81.0     False   False  \n",
            "838             111.0              63.0      True    True  \n",
            "\n",
            "[1000 rows x 11 columns]\n"
          ]
        }
      ]
    },
    {
      "cell_type": "code",
      "source": [
        "# Today's question\n",
        "\n",
        "sorted_df = patients.groupby(\"Blood_Type\").Weight.mean()\n",
        "\n",
        "print(sorted_df)"
      ],
      "metadata": {
        "colab": {
          "base_uri": "https://localhost:8080/"
        },
        "id": "gDZyW-XUp7Pz",
        "outputId": "1895410b-844f-4e6f-dccc-cb4c8c4fcfd9"
      },
      "execution_count": null,
      "outputs": [
        {
          "output_type": "stream",
          "name": "stdout",
          "text": [
            "Blood_Type\n",
            "A+     100.059821\n",
            "A-     101.168142\n",
            "AB+    100.085586\n",
            "AB-    101.592126\n",
            "B+     101.697222\n",
            "B-      97.220183\n",
            "O+     101.430597\n",
            "O-      97.154110\n",
            "Name: Weight, dtype: float64\n"
          ]
        }
      ]
    }
  ]
}