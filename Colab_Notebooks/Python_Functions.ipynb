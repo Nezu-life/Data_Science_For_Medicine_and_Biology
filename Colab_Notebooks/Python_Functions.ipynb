{
  "nbformat": 4,
  "nbformat_minor": 0,
  "metadata": {
    "colab": {
      "provenance": []
    },
    "kernelspec": {
      "name": "python3",
      "display_name": "Python 3"
    },
    "language_info": {
      "name": "python"
    }
  },
  "cells": [
    {
      "cell_type": "code",
      "execution_count": null,
      "metadata": {
        "id": "ai2A8bMCt5TV"
      },
      "outputs": [],
      "source": [
        "# Data Science for Medicine and Biology\n",
        "#\n",
        "# Nezu Life Sciences\n",
        "#\n",
        "# Feel free to modify, redistribute and above all,\n",
        "# create something with this code.\n",
        "#\n",
        "# Tiago Lopes, PhD\n",
        "# March 2024\n",
        "\n",
        "def greet():\n",
        "    print(\"Hello, welcome to Python functions!\")\n",
        "\n"
      ]
    },
    {
      "cell_type": "code",
      "source": [
        "greet()  # Calls the greet function\n"
      ],
      "metadata": {
        "colab": {
          "base_uri": "https://localhost:8080/"
        },
        "id": "fLTVGMuwuBO0",
        "outputId": "85f00334-22d9-4a65-9cdd-d987d3fce731"
      },
      "execution_count": null,
      "outputs": [
        {
          "output_type": "stream",
          "name": "stdout",
          "text": [
            "Hello, welcome to Python functions!\n"
          ]
        }
      ]
    },
    {
      "cell_type": "code",
      "source": [
        "def greet_name(name):\n",
        "    print(\"Hello,\", name, \"welcome to Python functions!\")\n"
      ],
      "metadata": {
        "id": "F2Rd9lvhvrmW"
      },
      "execution_count": null,
      "outputs": []
    },
    {
      "cell_type": "code",
      "source": [
        "greet_name(\"Amie\")\n"
      ],
      "metadata": {
        "colab": {
          "base_uri": "https://localhost:8080/"
        },
        "id": "4cxk_Qi6xbML",
        "outputId": "1b517b1a-3668-4af8-aa88-c10870dc0c49"
      },
      "execution_count": null,
      "outputs": [
        {
          "output_type": "stream",
          "name": "stdout",
          "text": [
            "Hello, Amie welcome to Python functions!\n"
          ]
        }
      ]
    },
    {
      "cell_type": "code",
      "source": [
        "def add(a, b):\n",
        "    return a + b\n"
      ],
      "metadata": {
        "id": "cRWS1zywx2m6"
      },
      "execution_count": null,
      "outputs": []
    },
    {
      "cell_type": "code",
      "source": [
        "result = add(5, 3)\n",
        "\n",
        "print(result)\n"
      ],
      "metadata": {
        "colab": {
          "base_uri": "https://localhost:8080/"
        },
        "id": "wEy6FjNwx68e",
        "outputId": "570a1345-0ac9-4a28-bfdf-1df362333789"
      },
      "execution_count": null,
      "outputs": [
        {
          "output_type": "stream",
          "name": "stdout",
          "text": [
            "8\n"
          ]
        }
      ]
    },
    {
      "cell_type": "code",
      "source": [
        "def greet_someone(name=\"User\"):\n",
        "    print(\"Hello,\", name, \"welcome to Python functions!\")\n"
      ],
      "metadata": {
        "id": "VQqQWZaTyPYN"
      },
      "execution_count": null,
      "outputs": []
    },
    {
      "cell_type": "code",
      "source": [
        "greet_someone()\n"
      ],
      "metadata": {
        "colab": {
          "base_uri": "https://localhost:8080/"
        },
        "id": "wBXEiu1_yRyQ",
        "outputId": "50b48ece-d423-48de-c60c-5eab150d592d"
      },
      "execution_count": null,
      "outputs": [
        {
          "output_type": "stream",
          "name": "stdout",
          "text": [
            "Hello, User welcome to Python functions!\n"
          ]
        }
      ]
    },
    {
      "cell_type": "code",
      "source": [
        "greet_someone(\"Linus\")\n"
      ],
      "metadata": {
        "colab": {
          "base_uri": "https://localhost:8080/"
        },
        "id": "F9Uoq-w9zJFE",
        "outputId": "76fdc3d7-23bb-4e09-b7e5-8b26b5f05618"
      },
      "execution_count": null,
      "outputs": [
        {
          "output_type": "stream",
          "name": "stdout",
          "text": [
            "Hello, Linus welcome to Python functions!\n"
          ]
        }
      ]
    },
    {
      "cell_type": "code",
      "source": [
        "def full_name(first, last):\n",
        "    return(first, last)\n"
      ],
      "metadata": {
        "id": "6w4W3rOXzbT4"
      },
      "execution_count": null,
      "outputs": []
    },
    {
      "cell_type": "code",
      "source": [
        "name = full_name(last=\"Doe\", first=\"John\")\n",
        "\n",
        "print(name)\n"
      ],
      "metadata": {
        "colab": {
          "base_uri": "https://localhost:8080/"
        },
        "id": "PP6pPCBNziCE",
        "outputId": "6be1e0a5-6a8f-4ab4-caad-74957dc7fef7"
      },
      "execution_count": null,
      "outputs": [
        {
          "output_type": "stream",
          "name": "stdout",
          "text": [
            "('John', 'Doe')\n"
          ]
        }
      ]
    },
    {
      "cell_type": "code",
      "source": [
        "def calculate_bmi(weight, height):\n",
        "    bmi = weight / (height ** 2)\n",
        "\n",
        "    return bmi\n"
      ],
      "metadata": {
        "id": "ejKotq0F6VA9"
      },
      "execution_count": null,
      "outputs": []
    },
    {
      "cell_type": "code",
      "source": [
        "def pounds_to_kilograms(pounds):\n",
        "    kilograms = pounds * 0.453592\n",
        "\n",
        "    return kilograms\n"
      ],
      "metadata": {
        "id": "RxOg-ubG6XdG"
      },
      "execution_count": null,
      "outputs": []
    },
    {
      "cell_type": "code",
      "source": [
        "athlete_weight = 250 # Weight in pounds\n",
        "\n",
        "athlete_weight_kg = pounds_to_kilograms(athlete_weight)\n",
        "\n",
        "bmi = calculate_bmi(athlete_weight_kg, 1.8)\n",
        "\n",
        "print(bmi)\n"
      ],
      "metadata": {
        "colab": {
          "base_uri": "https://localhost:8080/"
        },
        "id": "N6guJHbQ6XvP",
        "outputId": "a868a6e7-526d-4651-a367-f808e90f19c5"
      },
      "execution_count": null,
      "outputs": [
        {
          "output_type": "stream",
          "name": "stdout",
          "text": [
            "34.99938271604938\n"
          ]
        }
      ]
    },
    {
      "cell_type": "code",
      "source": [
        "def question_function(x, y, z):\n",
        "  tmp = x + y\n",
        "\n",
        "  result = tmp * z\n",
        "\n",
        "  return(result)\n"
      ],
      "metadata": {
        "id": "D5oR2F271ATa"
      },
      "execution_count": null,
      "outputs": []
    },
    {
      "cell_type": "code",
      "source": [
        "super_number = question_function(2, 3, 5)\n",
        "\n",
        "print(super_number)\n"
      ],
      "metadata": {
        "colab": {
          "base_uri": "https://localhost:8080/"
        },
        "id": "fhdoi9GO1N37",
        "outputId": "7582ba74-da90-44bf-adf9-2143532acdcc"
      },
      "execution_count": null,
      "outputs": [
        {
          "output_type": "stream",
          "name": "stdout",
          "text": [
            "25\n"
          ]
        }
      ]
    }
  ]
}