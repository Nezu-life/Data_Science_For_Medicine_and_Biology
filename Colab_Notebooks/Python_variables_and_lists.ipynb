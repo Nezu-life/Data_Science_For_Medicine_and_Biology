{
  "nbformat": 4,
  "nbformat_minor": 0,
  "metadata": {
    "colab": {
      "provenance": []
    },
    "kernelspec": {
      "name": "python3",
      "display_name": "Python 3"
    },
    "language_info": {
      "name": "python"
    }
  },
  "cells": [
    {
      "cell_type": "code",
      "execution_count": null,
      "metadata": {
        "colab": {
          "base_uri": "https://localhost:8080/"
        },
        "id": "C5KJzmlDgHel",
        "outputId": "13ad2773-9076-418f-9f5a-3f466bc63d41"
      },
      "outputs": [
        {
          "output_type": "stream",
          "name": "stdout",
          "text": [
            "50\n",
            "13.5\n",
            "AGCTCGTGG\n",
            "True\n"
          ]
        }
      ],
      "source": [
        "# Data Science for Medicine and Biology\n",
        "#\n",
        "# Nezu Life Sciences\n",
        "#\n",
        "# Feel free to modify, redistribute and above all,\n",
        "# create something with this code.\n",
        "#\n",
        "# Tiago Lopes, PhD\n",
        "# March 2024\n",
        "\n",
        "# Integer\n",
        "patient_count = 50  # number of patients in a clinical trial\n",
        "\n",
        "# Float\n",
        "hemoglobin_level = 13.5  # hemoglobin level in a patient's blood test\n",
        "\n",
        "# String\n",
        "gene_sequence = \"AGCTCGTGG\"  # a short DNA sequence\n",
        "\n",
        "# Boolean\n",
        "is_malignant = True  # indicates whether a tumor is malignant\n",
        "\n",
        "# Output\n",
        "print(patient_count)\n",
        "print(hemoglobin_level)\n",
        "print(gene_sequence)\n",
        "print(is_malignant)"
      ]
    },
    {
      "cell_type": "code",
      "source": [
        "patient_ages = [29, 350, 42]  # ages of different patients\n",
        "\n",
        "print(patient_ages)"
      ],
      "metadata": {
        "id": "hQwZYactv-9-",
        "colab": {
          "base_uri": "https://localhost:8080/"
        },
        "outputId": "fbfb0391-5823-476b-d588-5df77904a002"
      },
      "execution_count": null,
      "outputs": [
        {
          "output_type": "stream",
          "name": "stdout",
          "text": [
            "[29, 35, 42]\n"
          ]
        }
      ]
    },
    {
      "cell_type": "code",
      "source": [
        "patient_ages = [29, 350, 42]  # ages of different patients\n",
        "\n",
        "print(patient_ages[0])"
      ],
      "metadata": {
        "colab": {
          "base_uri": "https://localhost:8080/"
        },
        "id": "-f5yJrQbNehw",
        "outputId": "5be04fd3-3f06-42a5-99ad-57dfc35d4198"
      },
      "execution_count": null,
      "outputs": [
        {
          "output_type": "stream",
          "name": "stdout",
          "text": [
            "29\n"
          ]
        }
      ]
    },
    {
      "cell_type": "code",
      "source": [
        "patient_ages = [29, 350, 42]  # ages of different patients\n",
        "\n",
        "patient_ages[1] = 35\n",
        "\n",
        "print(patient_ages[1])"
      ],
      "metadata": {
        "colab": {
          "base_uri": "https://localhost:8080/"
        },
        "id": "mef1HlB9OUs2",
        "outputId": "8a0e2307-4eaa-4ee0-a694-97412c4fc785"
      },
      "execution_count": null,
      "outputs": [
        {
          "output_type": "stream",
          "name": "stdout",
          "text": [
            "35\n"
          ]
        }
      ]
    },
    {
      "cell_type": "code",
      "source": [
        "patient_ages = [29, 350, 42]  # ages of different patients\n",
        "\n",
        "print(patient_ages[1]) # Before the change\n",
        "\n",
        "patient_ages[1] = 35\n",
        "\n",
        "print(patient_ages[1]) # After the change"
      ],
      "metadata": {
        "colab": {
          "base_uri": "https://localhost:8080/"
        },
        "id": "WRux4OvFPyPq",
        "outputId": "7d16afbc-54c6-4bc3-f4fb-9689290b4b91"
      },
      "execution_count": null,
      "outputs": [
        {
          "output_type": "stream",
          "name": "stdout",
          "text": [
            "350\n",
            "35\n"
          ]
        }
      ]
    },
    {
      "cell_type": "code",
      "source": [
        "\n",
        "# Today's question\n",
        "\n",
        "x = 0\n",
        "y = 0\n",
        "\n",
        "x = y = z = 2\n",
        "\n",
        "print(x)"
      ],
      "metadata": {
        "colab": {
          "base_uri": "https://localhost:8080/"
        },
        "id": "BFyu4Z-N20F7",
        "outputId": "609f6276-a64d-498f-aa36-08328878be94"
      },
      "execution_count": null,
      "outputs": [
        {
          "output_type": "stream",
          "name": "stdout",
          "text": [
            "2\n"
          ]
        }
      ]
    }
  ]
}