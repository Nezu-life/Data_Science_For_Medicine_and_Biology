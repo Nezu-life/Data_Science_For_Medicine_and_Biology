{
  "nbformat": 4,
  "nbformat_minor": 0,
  "metadata": {
    "colab": {
      "provenance": []
    },
    "kernelspec": {
      "name": "python3",
      "display_name": "Python 3"
    },
    "language_info": {
      "name": "python"
    }
  },
  "cells": [
    {
      "cell_type": "code",
      "execution_count": null,
      "metadata": {
        "colab": {
          "base_uri": "https://localhost:8080/"
        },
        "id": "zpA2a9D7RIZO",
        "outputId": "fa13cf1b-70b7-4413-943b-cfcfa761dea2"
      },
      "outputs": [
        {
          "output_type": "stream",
          "name": "stdout",
          "text": [
            "Total age of two patients: 70\n",
            "Age difference between two patients: 10\n",
            "Total dosage for two medications: 3750\n",
            "Average age of two patients: 35.0\n"
          ]
        }
      ],
      "source": [
        "# Data Science for Medicine and Biology\n",
        "#\n",
        "# Nezu Life Sciences\n",
        "#\n",
        "# Feel free to modify, redistribute and above all,\n",
        "# create something with this code.\n",
        "#\n",
        "# Tiago Lopes, PhD\n",
        "# March 2024\n",
        "\n",
        "# Example variables\n",
        "patient_age1 = 30\n",
        "patient_age2 = 40\n",
        "dosage_mg1 = 50\n",
        "dosage_mg2 = 75\n",
        "\n",
        "# Addition: Calculating the total age of two patients\n",
        "total_age = patient_age1 + patient_age2\n",
        "\n",
        "# Subtraction: Finding the age difference between two patients\n",
        "age_difference = patient_age2 - patient_age1\n",
        "\n",
        "# Multiplication: Calculating total dosage for two different medications\n",
        "total_dosage = dosage_mg1 * dosage_mg2\n",
        "\n",
        "# Division: Calculating the average age of the two patients\n",
        "average_age = total_age / 2\n",
        "\n",
        "# Printing the results\n",
        "print(\"Total age of two patients:\", total_age)\n",
        "print(\"Age difference between two patients:\", age_difference)\n",
        "print(\"Total dosage for two medications:\", total_dosage)\n",
        "print(\"Average age of two patients:\", average_age)\n"
      ]
    }
  ]
}